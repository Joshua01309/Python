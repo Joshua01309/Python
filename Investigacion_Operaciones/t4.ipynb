{
  "nbformat": 4,
  "nbformat_minor": 0,
  "metadata": {
    "colab": {
      "provenance": []
    },
    "kernelspec": {
      "name": "python3",
      "display_name": "Python 3"
    },
    "language_info": {
      "name": "python"
    }
  },
  "cells": [
    {
      "cell_type": "code",
      "execution_count": null,
      "metadata": {
        "id": "aYCCv546RN3k"
      },
      "outputs": [],
      "source": [
        "invitados = []\n",
        "while True:\n",
        "    invitar = input('Nombre de invitado ( escribe \"no\" ): ')\n",
        "    if invitar.lower() == 'no':\n",
        "        break\n",
        "    invitados.append(invitar)\n",
        "    print(f'Invitados: {invitados}')\n",
        "print(f'invitados: {invitados}')\n",
        "\n",
        "while True:\n",
        "    num = int(input('ingresa un numero del 5 al 10: '))\n",
        "    if 5 <= num <= 10:\n",
        "        print(f'Tu numero es {num} El numero {num} está en el rango.')\n",
        "        break\n",
        "    else:\n",
        "        print('El numero no está en el rango, \\n intenga de nuevo')\n",
        "\n",
        "\n",
        "\n",
        "for: Se usa cuando se conoce el número exacto de iteraciones.\n",
        "while: Se usa cuando el número de iteraciones es desconocido y depende de una condición.\n",
        "for recorre una secuencia (vector, lista o rango).\n",
        "while ejecuta el código mientras una condición sea verdadera.\n",
        "for no necesita una condición booleana, solo una secuencia.\n",
        "while puede generar bucles infinitos si la condición nunca cambia.\n",
        "Usar for para recorrer datos o repetir acciones un número fijo de veces.\n",
        "Usar while para esperar una condición o repetir hasta que algo cambie."
      ]
    },
    {
      "cell_type": "code",
      "source": [
        "def calculadora(num1, num2, operacion):\n",
        "    if operacion == '+':\n",
        "        return num1 + num2\n",
        "    elif operacion == '-':\n",
        "        return num1 - num2\n",
        "    elif operacion == '*':\n",
        "        return num1 * num2\n",
        "    elif operacion == '/':\n",
        "        return num1 / num2\n",
        "    else:\n",
        "        return 'Operación no válida'\n",
        "    return resultado\n",
        "\n",
        "\n",
        "resultado = calculadora(5, 3, '*')\n",
        "print(resultado)"
      ],
      "metadata": {
        "colab": {
          "base_uri": "https://localhost:8080/"
        },
        "id": "72wy61WSei4i",
        "outputId": "c1989a60-3585-4d07-d67f-0cb9f5abc62f"
      },
      "execution_count": null,
      "outputs": [
        {
          "output_type": "stream",
          "name": "stdout",
          "text": [
            "15\n"
          ]
        }
      ]
    }
  ]
}