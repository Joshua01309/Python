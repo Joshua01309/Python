{
  "nbformat": 4,
  "nbformat_minor": 0,
  "metadata": {
    "colab": {
      "provenance": []
    },
    "kernelspec": {
      "name": "python3",
      "display_name": "Python 3"
    },
    "language_info": {
      "name": "python"
    }
  },
  "cells": [
    {
      "cell_type": "code",
      "execution_count": null,
      "metadata": {
        "colab": {
          "base_uri": "https://localhost:8080/"
        },
        "id": "5XXhNpocEzTJ",
        "outputId": "3cf92a3f-744e-4701-84af-024fa817b9a4"
      },
      "outputs": [
        {
          "output_type": "stream",
          "name": "stdout",
          "text": [
            "Collecting pyswarms\n",
            "  Downloading pyswarms-1.3.0-py2.py3-none-any.whl.metadata (33 kB)\n",
            "Requirement already satisfied: scipy in /usr/local/lib/python3.11/dist-packages (from pyswarms) (1.15.2)\n",
            "Requirement already satisfied: numpy in /usr/local/lib/python3.11/dist-packages (from pyswarms) (2.0.2)\n",
            "Requirement already satisfied: matplotlib>=1.3.1 in /usr/local/lib/python3.11/dist-packages (from pyswarms) (3.10.0)\n",
            "Requirement already satisfied: attrs in /usr/local/lib/python3.11/dist-packages (from pyswarms) (25.3.0)\n",
            "Requirement already satisfied: tqdm in /usr/local/lib/python3.11/dist-packages (from pyswarms) (4.67.1)\n",
            "Requirement already satisfied: future in /usr/local/lib/python3.11/dist-packages (from pyswarms) (1.0.0)\n",
            "Requirement already satisfied: pyyaml in /usr/local/lib/python3.11/dist-packages (from pyswarms) (6.0.2)\n",
            "Requirement already satisfied: contourpy>=1.0.1 in /usr/local/lib/python3.11/dist-packages (from matplotlib>=1.3.1->pyswarms) (1.3.2)\n",
            "Requirement already satisfied: cycler>=0.10 in /usr/local/lib/python3.11/dist-packages (from matplotlib>=1.3.1->pyswarms) (0.12.1)\n",
            "Requirement already satisfied: fonttools>=4.22.0 in /usr/local/lib/python3.11/dist-packages (from matplotlib>=1.3.1->pyswarms) (4.57.0)\n",
            "Requirement already satisfied: kiwisolver>=1.3.1 in /usr/local/lib/python3.11/dist-packages (from matplotlib>=1.3.1->pyswarms) (1.4.8)\n",
            "Requirement already satisfied: packaging>=20.0 in /usr/local/lib/python3.11/dist-packages (from matplotlib>=1.3.1->pyswarms) (24.2)\n",
            "Requirement already satisfied: pillow>=8 in /usr/local/lib/python3.11/dist-packages (from matplotlib>=1.3.1->pyswarms) (11.2.1)\n",
            "Requirement already satisfied: pyparsing>=2.3.1 in /usr/local/lib/python3.11/dist-packages (from matplotlib>=1.3.1->pyswarms) (3.2.3)\n",
            "Requirement already satisfied: python-dateutil>=2.7 in /usr/local/lib/python3.11/dist-packages (from matplotlib>=1.3.1->pyswarms) (2.9.0.post0)\n",
            "Requirement already satisfied: six>=1.5 in /usr/local/lib/python3.11/dist-packages (from python-dateutil>=2.7->matplotlib>=1.3.1->pyswarms) (1.17.0)\n",
            "Downloading pyswarms-1.3.0-py2.py3-none-any.whl (104 kB)\n",
            "\u001b[2K   \u001b[90m━━━━━━━━━━━━━━━━━━━━━━━━━━━━━━━━━━━━━━━━\u001b[0m \u001b[32m104.1/104.1 kB\u001b[0m \u001b[31m4.4 MB/s\u001b[0m eta \u001b[36m0:00:00\u001b[0m\n",
            "\u001b[?25hInstalling collected packages: pyswarms\n",
            "Successfully installed pyswarms-1.3.0\n"
          ]
        }
      ],
      "source": [
        "! pip install pyswarms"
      ]
    },
    {
      "cell_type": "code",
      "source": [
        "# Import modules\n",
        "import numpy as np\n",
        "import matplotlib.pyplot as plt\n",
        "\n",
        "\n",
        "\n",
        "# Import PySwarms\n",
        "import pyswarms as ps\n",
        "from pyswarms.utils.functions import single_obj as fx\n",
        "\n",
        "# Some more magic so that the notebook will reload external python modules;\n",
        "# see http://stackoverflow.com/questions/1907993/autoreload-of-modules-in-ipython\n",
        "%load_ext autoreload\n",
        "%autoreload 2"
      ],
      "metadata": {
        "id": "LssY4FtEFCf6"
      },
      "execution_count": null,
      "outputs": []
    },
    {
      "cell_type": "code",
      "source": [
        "%%time\n",
        "np.random.seed(123)\n",
        "# Set-up hyperparameters\n",
        "options = {'c1': 0.5, 'c2': 0.3, 'w':0.9}\n",
        "\n",
        "# Call instance of PSO\n",
        "optimizer = ps.single.GlobalBestPSO(n_particles=10, dimensions=2, options=options)\n",
        "\n",
        "# Perform optimization\n",
        "cost, pos = optimizer.optimize(fx.sphere, iters=1000)"
      ],
      "metadata": {
        "colab": {
          "base_uri": "https://localhost:8080/"
        },
        "id": "DRiyYCMfFVC5",
        "outputId": "ffe24c04-e2db-4de7-9922-6e4c89615e9e"
      },
      "execution_count": null,
      "outputs": [
        {
          "output_type": "stream",
          "name": "stderr",
          "text": [
            "2025-04-25 17:57:33,409 - pyswarms.single.global_best - INFO - Optimize for 1000 iters with {'c1': 0.5, 'c2': 0.3, 'w': 0.9}\n",
            "pyswarms.single.global_best: 100%|██████████|1000/1000, best_cost=7.37e-42\n",
            "2025-04-25 17:57:34,516 - pyswarms.single.global_best - INFO - Optimization finished | best cost: 7.37487069696429e-42, best pos: [-1.92259509e-21 -1.91794129e-21]\n"
          ]
        },
        {
          "output_type": "stream",
          "name": "stdout",
          "text": [
            "CPU times: user 904 ms, sys: 100 ms, total: 1 s\n",
            "Wall time: 1.12 s\n"
          ]
        }
      ]
    },
    {
      "cell_type": "code",
      "source": [
        "pos"
      ],
      "metadata": {
        "colab": {
          "base_uri": "https://localhost:8080/"
        },
        "id": "2l_PtBYxFih7",
        "outputId": "c4100a9b-87b2-4400-a2bb-d0bbb4242c30"
      },
      "execution_count": null,
      "outputs": [
        {
          "output_type": "execute_result",
          "data": {
            "text/plain": [
              "array([-1.92259509e-21, -1.91794129e-21])"
            ]
          },
          "metadata": {},
          "execution_count": 9
        }
      ]
    },
    {
      "cell_type": "code",
      "source": [
        "pos[0]**2 + pos[1]**2"
      ],
      "metadata": {
        "colab": {
          "base_uri": "https://localhost:8080/"
        },
        "id": "bF_ruJ_aFjEg",
        "outputId": "5dcaeae1-efa8-46e5-f995-e6d3c468f3e9"
      },
      "execution_count": null,
      "outputs": [
        {
          "output_type": "execute_result",
          "data": {
            "text/plain": [
              "np.float64(7.37487069696429e-42)"
            ]
          },
          "metadata": {},
          "execution_count": 10
        }
      ]
    },
    {
      "cell_type": "code",
      "source": [
        "np.ones(2)*5.2*-1"
      ],
      "metadata": {
        "colab": {
          "base_uri": "https://localhost:8080/"
        },
        "id": "Y5A3CLb0HJZO",
        "outputId": "381ff424-dbcf-4908-f493-40f0b739a463"
      },
      "execution_count": null,
      "outputs": [
        {
          "output_type": "execute_result",
          "data": {
            "text/plain": [
              "array([-5.2, -5.2])"
            ]
          },
          "metadata": {},
          "execution_count": 13
        }
      ]
    },
    {
      "cell_type": "code",
      "source": [
        "cost"
      ],
      "metadata": {
        "colab": {
          "base_uri": "https://localhost:8080/"
        },
        "id": "pH_ZCqh0F2dD",
        "outputId": "e303fd0f-9e5c-4d7f-9a13-861a8f4b58ee"
      },
      "execution_count": null,
      "outputs": [
        {
          "output_type": "execute_result",
          "data": {
            "text/plain": [
              "np.float64(2.957878324755392e-45)"
            ]
          },
          "metadata": {},
          "execution_count": 6
        }
      ]
    },
    {
      "cell_type": "code",
      "source": [
        "# Create bounds\n",
        "max_bound = 5.12 * np.ones(2)\n",
        "min_bound = - max_bound\n",
        "bounds = (min_bound, max_bound)\n",
        "bounds"
      ],
      "metadata": {
        "colab": {
          "base_uri": "https://localhost:8080/"
        },
        "id": "wiGgypAxHG9g",
        "outputId": "14435b4c-7831-4ef1-fe83-074af9d7fed7"
      },
      "execution_count": null,
      "outputs": [
        {
          "output_type": "execute_result",
          "data": {
            "text/plain": [
              "(array([-5.12, -5.12]), array([5.12, 5.12]))"
            ]
          },
          "metadata": {},
          "execution_count": 14
        }
      ]
    },
    {
      "cell_type": "code",
      "source": [
        "\n",
        "%%time\n",
        "# Initialize swarm\n",
        "options = {'c1': 0.5, 'c2': 0.3, 'w':0.9}\n",
        "\n",
        "# Call instance of PSO with bounds argument\n",
        "optimizer = ps.single.GlobalBestPSO(n_particles=10, dimensions=2, options=options, bounds=bounds)\n",
        "\n",
        "# Perform optimization\n",
        "cost, pos = optimizer.optimize(fx.rastrigin, iters=1000)"
      ],
      "metadata": {
        "id": "dgTRVpTWHgp7",
        "outputId": "3fd1a205-a772-465c-da5c-4eb4c483b2c7",
        "colab": {
          "base_uri": "https://localhost:8080/"
        }
      },
      "execution_count": null,
      "outputs": [
        {
          "output_type": "stream",
          "name": "stderr",
          "text": [
            "2025-04-25 18:03:03,076 - pyswarms.single.global_best - INFO - Optimize for 1000 iters with {'c1': 0.5, 'c2': 0.3, 'w': 0.9}\n",
            "pyswarms.single.global_best: 100%|██████████|1000/1000, best_cost=0\n",
            "2025-04-25 18:03:04,403 - pyswarms.single.global_best - INFO - Optimization finished | best cost: 0.0, best pos: [-3.69714334e-09  3.54937784e-10]\n"
          ]
        },
        {
          "output_type": "stream",
          "name": "stdout",
          "text": [
            "CPU times: user 1.12 s, sys: 109 ms, total: 1.23 s\n",
            "Wall time: 1.33 s\n"
          ]
        }
      ]
    },
    {
      "cell_type": "markdown",
      "source": [
        "### Función objetivo\n",
        "\n",
        "$$\n",
        "\\text{Min } Z = 5x_{11} + 8x_{12} + 3x_{21} + 4x_{22}\n",
        "$$\n",
        "Restricciones de actividades:\n",
        "$$\n",
        "x_{11} + x_{21}=400\n",
        "$$\n",
        "$$\n",
        "x_{12} + x_{22} = 900\n",
        "$$\n",
        "$$\n",
        "x_{11} + x_{12} = 700\n",
        "$$\n",
        "$$\n",
        "x_{21} + x_{22} = 600\n",
        "$$"
      ],
      "metadata": {
        "id": "EcsLcbctX6TB"
      }
    },
    {
      "cell_type": "code",
      "source": [
        "import numpy as np\n",
        "\n",
        "def function_fitness(x_11, x_12, x_21, x_22):\n",
        "\n",
        "    if (n:=(x_11 + x_21 - 400)) > 0:\n",
        "        r_1 = n*1e2\n",
        "    else:\n",
        "        r_1 = np.abs(n)*1e1\n",
        "\n",
        "    if (n:=(x_12 - x_22 - 900)) > 0:\n",
        "        r_2 = n*1e2\n",
        "    else:\n",
        "        r_2 = np.abs(n)*1e1\n",
        "\n",
        "    if (n:=(x_11 + x_12 - 700)) > 0:\n",
        "        r_3 = n*1e2\n",
        "    else:\n",
        "        r_3 = np.abs(n)*1e1\n",
        "\n",
        "\n",
        "    if (n:=(x_21 + x_22 - 600)) > 0:\n",
        "        r_4 = n*1e2\n",
        "    else:\n",
        "        r_4 = np.abs(n)*1e1\n",
        "\n",
        "    return np.abs(5*x_11 + 8*x_12 + 3*x_21 + 4*x_22) + r_1 + r_2 + r_3 + r_4\n",
        "# def function_fitness(x_11, x_12, x_21, x_22):\n",
        "#     return 5*x_11 + 8*x_12 + 3*x_21 + 4*x_22 + np.abs(x_11 + x_21 - 400) + np.abs(x_12 - x_22 - 900) + np.abs(x_11 + x_12 - 700) + np.abs(x_21 + x_22 - 600)\n",
        "def funcrtion(X):\n",
        "    i, j = X.shape\n",
        "    f_x = np.zeros((i))\n",
        "    for idx in range(i):\n",
        "\n",
        "        x_11, x_12, x_21, x_22 = X[idx,:].round()\n",
        "        f = function_fitness(x_11, x_12, x_21, x_22)\n",
        "        f_x[idx] = f\n",
        "    return f_x\n",
        "\n",
        "def function_fitness_2(x_11, x_12, x_21, x_22):\n",
        "    return 5*x_11 + 8*x_12 + 3*x_21 + 4*x_22 + np.abs(x_11 + x_21 - 400) + np.abs(x_12 - x_22 - 900) + np.abs(x_11 + x_12 - 700) + np.abs(x_21 + x_22 - 600)\n",
        "\n",
        "def contrain_01(x_11, x_12, x_21, x_22):\n",
        "    return x_11 + x_21 - 400\n",
        "def contrain_02(x_11, x_12, x_21, x_22):\n",
        "    return x_12 - x_22 - 900\n",
        "def contrain_03(x_11, x_12, x_21, x_22):\n",
        "    return x_11 + x_12 - 700\n",
        "def contrain_04(x_11, x_12, x_21, x_22):\n",
        "    return x_21 + x_22 - 600\n",
        "# def function_fitness(x_11, x_12):\n",
        "#     return x_11**2 + x_12**2"
      ],
      "metadata": {
        "id": "Gr8soEN1X7Ji"
      },
      "execution_count": null,
      "outputs": []
    },
    {
      "cell_type": "code",
      "source": [
        "%%time\n",
        "np.random.seed(123)\n",
        "# Set-up hyperparameters\n",
        "options = {'c1': 0.25, 'c2': 0.3, 'w':0.90}\n",
        "\n",
        "# Create bounds\n",
        "max_bound = 5000 * np.ones(4)\n",
        "min_bound = 0 * np.ones(4)\n",
        "bounds = (min_bound, max_bound)\n",
        "bounds\n",
        "\n",
        "# Call instance of PSO\n",
        "optimizer = ps.single.GlobalBestPSO(n_particles=190, dimensions=4, options=options, bounds=bounds)\n",
        "\n",
        "# Perform optimization\n",
        "cost, pos = optimizer.optimize(funcrtion, iters=500)\n",
        "history = optimizer.cost_history\n",
        "\n",
        "\n",
        "pos = pos.round()\n",
        "print(\"Solución de restricciones\")\n",
        "print(\"Si el valor es positivo, es que se eccedio la restricción\")\n",
        "print(\"Si el valor es negatiavo, o cero, es que no se eccedió la restricción\")\n",
        "print(contrain_01(*pos), contrain_02(*pos), contrain_03(*pos), contrain_04(*pos),  pos)\n",
        "\n",
        "print(\"Valor de la función sin restricciones\")\n",
        "print(function_fitness_2(*pos))\n",
        "\n",
        "\n",
        "plt.plot(history)\n",
        "plt.title(\"Cost vs iteration\")\n",
        "plt.ylabel(\"Cost\")\n",
        "plt.xlabel(\"Iteration\")\n",
        "plt.show()"
      ],
      "metadata": {
        "colab": {
          "base_uri": "https://localhost:8080/",
          "height": 688
        },
        "id": "AOoB6dciZJIB",
        "outputId": "095048ad-6b5d-48a9-c3ce-af12e2cbd7b6"
      },
      "execution_count": null,
      "outputs": [
        {
          "output_type": "stream",
          "name": "stderr",
          "text": [
            "2025-04-29 03:38:57,380 - pyswarms.single.global_best - INFO - Optimize for 500 iters with {'c1': 0.25, 'c2': 0.3, 'w': 0.9}\n",
            "pyswarms.single.global_best: 100%|██████████|500/500, best_cost=15734.0\n",
            "2025-04-29 03:38:59,271 - pyswarms.single.global_best - INFO - Optimization finished | best cost: 15734.0, best pos: [196.14317174 466.73553754 166.38642435 274.55435682]\n"
          ]
        },
        {
          "output_type": "stream",
          "name": "stdout",
          "text": [
            "Solución de restricciones\n",
            "Si el valor es positivo, es que se eccedio la restricción\n",
            "Si el valor es negatiavo, o cero, es que no se eccedió la restricción\n",
            "-38.0 -708.0 -37.0 -159.0 [196. 467. 166. 275.]\n",
            "Valor de la función sin restricciones\n",
            "7256.0\n"
          ]
        },
        {
          "output_type": "display_data",
          "data": {
            "text/plain": [
              "<Figure size 640x480 with 1 Axes>"
            ],
            "image/png": "[encoded data removed]"
          },
          "metadata": {}
        },
        {
          "output_type": "stream",
          "name": "stdout",
          "text": [
            "CPU times: user 1.87 s, sys: 113 ms, total: 1.99 s\n",
            "Wall time: 2.04 s\n"
          ]
        }
      ]
    },
    {
      "cell_type": "markdown",
      "source": [
        "### Función objetivo\n",
        "\n",
        "$$\n",
        "\\text{max } Z = 3x_1 + 4x_2\n",
        "$$\n",
        "Restricciones de actividades:\n",
        "$$\n",
        "2x_1 + x_2 \\leq 100\n",
        "$$\n",
        "$$\n",
        "x_1 + 3x_2 \\leq 90\n",
        "$$\n",
        "Restricciones de no negatividad:\n",
        "\n",
        "$$\n",
        "x_1 \\geq 0\n",
        "$$\n",
        "$$\n",
        "x_2 \\geq 0\n",
        "$$\n"
      ],
      "metadata": {
        "id": "ZLohC1Sg-H-d"
      }
    },
    {
      "cell_type": "markdown",
      "source": [],
      "metadata": {
        "id": "3OscJV56-JQC"
      }
    },
    {
      "cell_type": "code",
      "source": [
        "\n",
        "def function_fitness(x_1, x_2):\n",
        "    n = 2*x_1 + x_2 - 100\n",
        "    if n > 0:\n",
        "        r_1 = -1*n\n",
        "    else:\n",
        "        r_1 = 0\n",
        "    n_2 = x_1 + 3*x_2 - 90\n",
        "    if n_2 > 0:\n",
        "        r_2 = -1*n_2*1e1\n",
        "    else:\n",
        "        r_2 = 0\n",
        "\n",
        "    return -1*(2*x_1 + 4*x_2 + r_1 + r_2)\n",
        "\n",
        "def function(X):\n",
        "    i, j = X.shape\n",
        "    f_x = np.zeros((i))\n",
        "    for idx in range(i):\n",
        "\n",
        "        x_1, x_2 = X[idx,:]\n",
        "        valor_de_funcion = function_fitness(x_1, x_2)\n",
        "        f_x[idx] = valor_de_funcion\n",
        "    return f_x\n",
        "\n",
        "def function_fitness_2(x_1, x_2):\n",
        "\n",
        "    return 2*x_1 + 4*x_2\n",
        "\n"
      ],
      "metadata": {
        "id": "8pe5kt6lgMQE"
      },
      "execution_count": null,
      "outputs": []
    },
    {
      "cell_type": "code",
      "source": [
        "%%time\n",
        "np.random.seed(123)\n",
        "# Set-up hyperparameters\n",
        "options = {'c1': 0.5, 'c2': 0.3, 'w':0.90}\n",
        "\n",
        "# Create bounds\n",
        "max_bound = 5000 * np.ones(2)\n",
        "min_bound = 0 * np.ones(2)\n",
        "bounds = (min_bound, max_bound)\n",
        "bounds\n",
        "\n",
        "# Call instance of PSO\n",
        "optimizer = ps.single.GlobalBestPSO(n_particles=190, dimensions=2, options=options, bounds=bounds)\n",
        "\n",
        "# Perform optimization\n",
        "cost, pos = optimizer.optimize(function, iters=500)\n",
        "history = optimizer.cost_history\n",
        "\n",
        "\n",
        "print(\"Valor de la función sin restricciones\")\n",
        "print(function_fitness_2(*pos))\n",
        "\n",
        "\n",
        "plt.plot(history)\n",
        "plt.title(\"Cost vs iteration\")\n",
        "plt.ylabel(\"Cost\")\n",
        "plt.xlabel(\"Iteration\")\n",
        "plt.show()"
      ],
      "metadata": {
        "colab": {
          "base_uri": "https://localhost:8080/",
          "height": 614
        },
        "id": "EstevD2FB746",
        "outputId": "96ed5edd-587e-442e-fadc-ec0bc3ddc1eb"
      },
      "execution_count": null,
      "outputs": [
        {
          "output_type": "stream",
          "name": "stderr",
          "text": [
            "2025-04-29 19:37:16,862 - pyswarms.single.global_best - INFO - Optimize for 500 iters with {'c1': 0.5, 'c2': 0.3, 'w': 0.9}\n",
            "pyswarms.single.global_best: 100%|██████████|500/500, best_cost=-122\n",
            "2025-04-29 19:37:18,308 - pyswarms.single.global_best - INFO - Optimization finished | best cost: -122.1406004099972, best pos: [54.41194789  7.38020014]\n"
          ]
        },
        {
          "output_type": "stream",
          "name": "stdout",
          "text": [
            "Valor de la función sin restricciones\n",
            "138.34469632916318\n"
          ]
        },
        {
          "output_type": "display_data",
          "data": {
            "text/plain": [
              "<Figure size 640x480 with 1 Axes>"
            ],
            "image/png": "[encoded data removed]"
          },
          "metadata": {}
        },
        {
          "output_type": "stream",
          "name": "stdout",
          "text": [
            "CPU times: user 1.47 s, sys: 87.9 ms, total: 1.56 s\n",
            "Wall time: 1.6 s\n"
          ]
        }
      ]
    },
    {
      "cell_type": "code",
      "source": [
        "pos[0], pos[1]"
      ],
      "metadata": {
        "colab": {
          "base_uri": "https://localhost:8080/"
        },
        "id": "Vk_EtzyzCkbJ",
        "outputId": "aea4bca4-ab7d-4a7e-b40b-c9e62f17c13b"
      },
      "execution_count": null,
      "outputs": [
        {
          "output_type": "execute_result",
          "data": {
            "text/plain": [
              "(np.float64(54.41194789125012), np.float64(7.380200136665735))"
            ]
          },
          "metadata": {},
          "execution_count": 18
        }
      ]
    },
    {
      "cell_type": "code",
      "source": [
        "import numpy as np\n",
        "\n",
        "X = np.random.rand(2, 4)\n",
        "X.shape"
      ],
      "metadata": {
        "colab": {
          "base_uri": "https://localhost:8080/"
        },
        "id": "Atnt1_sA_yjX",
        "outputId": "b7486c37-35e5-43b5-ee80-27531f33b2a8"
      },
      "execution_count": null,
      "outputs": [
        {
          "output_type": "execute_result",
          "data": {
            "text/plain": [
              "(2, 4)"
            ]
          },
          "metadata": {},
          "execution_count": 5
        }
      ]
    },
    {
      "cell_type": "code",
      "source": [],
      "metadata": {
        "id": "ymUPLAyLdhuQ"
      },
      "execution_count": null,
      "outputs": []
    }
  ]
}