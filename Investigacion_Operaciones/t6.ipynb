{
  "nbformat": 4,
  "nbformat_minor": 0,
  "metadata": {
    "colab": {
      "provenance": []
    },
    "kernelspec": {
      "name": "python3",
      "display_name": "Python 3"
    },
    "language_info": {
      "name": "python"
    }
  },
  "cells": [
    {
      "cell_type": "code",
      "execution_count": null,
      "metadata": {
        "colab": {
          "base_uri": "https://localhost:8080/"
        },
        "id": "xUGxbrbng0u5",
        "outputId": "b4ec5eb9-40dd-4612-f76a-14199ec83901"
      },
      "outputs": [
        {
          "output_type": "stream",
          "name": "stdout",
          "text": [
            "Requirement already satisfied: pyomo in /usr/local/lib/python3.11/dist-packages (6.8.2)\n",
            "Requirement already satisfied: ply in /usr/local/lib/python3.11/dist-packages (from pyomo) (3.11)\n",
            "Get:1 https://cloud.r-project.org/bin/linux/ubuntu jammy-cran40/ InRelease [3,632 B]\n",
            "Get:2 https://developer.download.nvidia.com/compute/cuda/repos/ubuntu2204/x86_64  InRelease [1,581 B]\n",
            "Hit:3 http://archive.ubuntu.com/ubuntu jammy InRelease\n",
            "Get:4 http://archive.ubuntu.com/ubuntu jammy-updates InRelease [128 kB]\n",
            "Get:5 http://security.ubuntu.com/ubuntu jammy-security InRelease [129 kB]\n",
            "Hit:6 https://r2u.stat.illinois.edu/ubuntu jammy InRelease\n",
            "Get:7 http://archive.ubuntu.com/ubuntu jammy-backports InRelease [127 kB]\n",
            "Get:8 https://developer.download.nvidia.com/compute/cuda/repos/ubuntu2204/x86_64  Packages [1,372 kB]\n",
            "Hit:9 https://ppa.launchpadcontent.net/deadsnakes/ppa/ubuntu jammy InRelease\n",
            "Hit:10 https://ppa.launchpadcontent.net/graphics-drivers/ppa/ubuntu jammy InRelease\n",
            "Hit:11 https://ppa.launchpadcontent.net/ubuntugis/ppa/ubuntu jammy InRelease\n",
            "Get:12 http://archive.ubuntu.com/ubuntu jammy-updates/restricted amd64 Packages [3,947 kB]\n",
            "Get:13 http://archive.ubuntu.com/ubuntu jammy-updates/main amd64 Packages [2,995 kB]\n",
            "Get:14 http://archive.ubuntu.com/ubuntu jammy-updates/universe amd64 Packages [1,533 kB]\n",
            "Get:15 http://security.ubuntu.com/ubuntu jammy-security/main amd64 Packages [2,682 kB]\n",
            "Get:16 http://security.ubuntu.com/ubuntu jammy-security/universe amd64 Packages [1,235 kB]\n",
            "Fetched 14.2 MB in 4s (3,311 kB/s)\n",
            "Reading package lists... Done\n",
            "W: Skipping acquire of configured file 'main/source/Sources' as repository 'https://r2u.stat.illinois.edu/ubuntu jammy InRelease' does not seem to provide it (sources.list entry misspelt?)\n",
            "Reading package lists... Done\n",
            "Building dependency tree... Done\n",
            "Reading state information... Done\n",
            "The following additional packages will be installed:\n",
            "  libamd2 libcolamd2 libglpk40 libsuitesparseconfig5\n",
            "Suggested packages:\n",
            "  libiodbc2-dev\n",
            "The following NEW packages will be installed:\n",
            "  glpk-utils libamd2 libcolamd2 libglpk40 libsuitesparseconfig5\n",
            "0 upgraded, 5 newly installed, 0 to remove and 29 not upgraded.\n",
            "Need to get 625 kB of archives.\n",
            "After this operation, 2,158 kB of additional disk space will be used.\n",
            "Get:1 http://archive.ubuntu.com/ubuntu jammy/main amd64 libsuitesparseconfig5 amd64 1:5.10.1+dfsg-4build1 [10.4 kB]\n",
            "Get:2 http://archive.ubuntu.com/ubuntu jammy/universe amd64 libamd2 amd64 1:5.10.1+dfsg-4build1 [21.6 kB]\n",
            "Get:3 http://archive.ubuntu.com/ubuntu jammy/main amd64 libcolamd2 amd64 1:5.10.1+dfsg-4build1 [18.0 kB]\n",
            "Get:4 http://archive.ubuntu.com/ubuntu jammy/universe amd64 libglpk40 amd64 5.0-1 [361 kB]\n",
            "Get:5 http://archive.ubuntu.com/ubuntu jammy/universe amd64 glpk-utils amd64 5.0-1 [214 kB]\n",
            "Fetched 625 kB in 1s (1,039 kB/s)\n",
            "Selecting previously unselected package libsuitesparseconfig5:amd64.\n",
            "(Reading database ... 124947 files and directories currently installed.)\n",
            "Preparing to unpack .../libsuitesparseconfig5_1%3a5.10.1+dfsg-4build1_amd64.deb ...\n",
            "Unpacking libsuitesparseconfig5:amd64 (1:5.10.1+dfsg-4build1) ...\n",
            "Selecting previously unselected package libamd2:amd64.\n",
            "Preparing to unpack .../libamd2_1%3a5.10.1+dfsg-4build1_amd64.deb ...\n",
            "Unpacking libamd2:amd64 (1:5.10.1+dfsg-4build1) ...\n",
            "Selecting previously unselected package libcolamd2:amd64.\n",
            "Preparing to unpack .../libcolamd2_1%3a5.10.1+dfsg-4build1_amd64.deb ...\n",
            "Unpacking libcolamd2:amd64 (1:5.10.1+dfsg-4build1) ...\n",
            "Selecting previously unselected package libglpk40:amd64.\n",
            "Preparing to unpack .../libglpk40_5.0-1_amd64.deb ...\n",
            "Unpacking libglpk40:amd64 (5.0-1) ...\n",
            "Selecting previously unselected package glpk-utils.\n",
            "Preparing to unpack .../glpk-utils_5.0-1_amd64.deb ...\n",
            "Unpacking glpk-utils (5.0-1) ...\n",
            "Setting up libsuitesparseconfig5:amd64 (1:5.10.1+dfsg-4build1) ...\n",
            "Setting up libamd2:amd64 (1:5.10.1+dfsg-4build1) ...\n",
            "Setting up libcolamd2:amd64 (1:5.10.1+dfsg-4build1) ...\n",
            "Setting up libglpk40:amd64 (5.0-1) ...\n",
            "Setting up glpk-utils (5.0-1) ...\n",
            "Processing triggers for man-db (2.10.2-1) ...\n",
            "Processing triggers for libc-bin (2.35-0ubuntu3.8) ...\n",
            "/sbin/ldconfig.real: /usr/local/lib/libtbbmalloc_proxy.so.2 is not a symbolic link\n",
            "\n",
            "/sbin/ldconfig.real: /usr/local/lib/libtbbbind_2_5.so.3 is not a symbolic link\n",
            "\n",
            "/sbin/ldconfig.real: /usr/local/lib/libur_loader.so.0 is not a symbolic link\n",
            "\n",
            "/sbin/ldconfig.real: /usr/local/lib/libtbbbind_2_0.so.3 is not a symbolic link\n",
            "\n",
            "/sbin/ldconfig.real: /usr/local/lib/libhwloc.so.15 is not a symbolic link\n",
            "\n",
            "/sbin/ldconfig.real: /usr/local/lib/libumf.so.0 is not a symbolic link\n",
            "\n",
            "/sbin/ldconfig.real: /usr/local/lib/libtbb.so.12 is not a symbolic link\n",
            "\n",
            "/sbin/ldconfig.real: /usr/local/lib/libur_adapter_level_zero.so.0 is not a symbolic link\n",
            "\n",
            "/sbin/ldconfig.real: /usr/local/lib/libtcm.so.1 is not a symbolic link\n",
            "\n",
            "/sbin/ldconfig.real: /usr/local/lib/libur_adapter_opencl.so.0 is not a symbolic link\n",
            "\n",
            "/sbin/ldconfig.real: /usr/local/lib/libtbbmalloc.so.2 is not a symbolic link\n",
            "\n",
            "/sbin/ldconfig.real: /usr/local/lib/libtcm_debug.so.1 is not a symbolic link\n",
            "\n",
            "/sbin/ldconfig.real: /usr/local/lib/libtbbbind.so.3 is not a symbolic link\n",
            "\n"
          ]
        }
      ],
      "source": [
        "# Inatalación, es necesario correr esta celda, de lo contrario el código no funcionara.:\n",
        "! pip install pyomo\n",
        "! apt-get update\n",
        "! apt-get install -y glpk-utils\n",
        "\n",
        "\n"
      ]
    },
    {
      "cell_type": "markdown",
      "source": [
        "Aquí tiene que escribir la función y restricciones respectivas:\n",
        "\n"
      ],
      "metadata": {
        "id": "E1mchDv7k0sy"
      }
    },
    {
      "cell_type": "markdown",
      "source": [
        "![image.png](data:image/png;base64,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)"
      ],
      "metadata": {
        "id": "4FeOP409eAKn"
      }
    },
    {
      "cell_type": "markdown",
      "source": [
        "### Función objetivo\n",
        "\n",
        "$$\n",
        "\\text{Max } Z = 3x_1 + 4x_2\n",
        "$$\n",
        "Restricciones de actividades:\n",
        "$$\n",
        "2x_1 + x_2 \\leq 100\n",
        "$$\n",
        "$$\n",
        "x_1 + 3x_2 \\leq 90\n",
        "$$\n",
        "Restricciones de no negatividad:\n",
        "\n",
        "$$\n",
        "x_1 \\geq 0\n",
        "$$\n",
        "$$\n",
        "x_2 \\geq 0\n",
        "$$"
      ],
      "metadata": {
        "id": "_pXhOw9ZeFTP"
      }
    },
    {
      "cell_type": "code",
      "source": [
        "# Importamos las bibliotecas necesarias\n",
        "from pyomo.environ import *\n",
        "\n",
        "# Creamos el modelo\n",
        "model = ConcreteModel()\n",
        "\n",
        "# Definimos las variables de decisión\n",
        "model.x_1 = Var(within=NonNegativeReals)  # x_1 >= 0\n",
        "model.x_2 = Var(within=NonNegativeReals)  # x_2 >= 0\n",
        "\n",
        "\n",
        "# Definimos la función objetivo\n",
        "model.obj = Objective(expr=3*model.x_1 + 4*model.x_2, sense=maximize)\n",
        "\n",
        "# Definimos las restricciones\n",
        "# Complete con la restricción 1:\n",
        "model.con1 = Constraint(expr= 2*model.x_1 + model.x_2 <= 100)\n",
        "# Complete con la restricción 2:\n",
        "model.con2 = Constraint(expr= model.x_1 + 3*model.x_2 <= 90)\n",
        "\n",
        "# Creamos un solver, por ejemplo GLPK\n",
        "solver = SolverFactory('glpk', executable='/usr/bin/glpsol').solve(model).write()# SolverFactory('glpk')\n",
        "\n",
        "\n",
        "# # Resolvemos el problema\n",
        "# solver.solve(model)\n",
        "\n",
        "# Mostramos los resultados\n",
        "print(f\"Valor óptimo de x_1: {model.x_1()}\")\n",
        "print(f\"Valor óptimo de x_2: {model.x_2()}\")\n",
        "# print(f\"Valor óptimo body de x_1: {model.x_1()}\")\n",
        "# print(f\"Valor óptimo body de x_2: {model.x_2()}\")\n",
        "print(f\"Valor óptimo de Z: {model.obj()}\")"
      ],
      "metadata": {
        "id": "ETjSJZjNVWmI",
        "colab": {
          "base_uri": "https://localhost:8080/"
        },
        "outputId": "c9307b6d-0cfc-4c49-83df-97aa4d86454a"
      },
      "execution_count": null,
      "outputs": [
        {
          "output_type": "stream",
          "name": "stdout",
          "text": [
            "# ==========================================================\n",
            "# = Solver Results                                         =\n",
            "# ==========================================================\n",
            "# ----------------------------------------------------------\n",
            "#   Problem Information\n",
            "# ----------------------------------------------------------\n",
            "Problem: \n",
            "- Name: unknown\n",
            "  Lower bound: 190.0\n",
            "  Upper bound: 190.0\n",
            "  Number of objectives: 1\n",
            "  Number of constraints: 2\n",
            "  Number of variables: 2\n",
            "  Number of nonzeros: 4\n",
            "  Sense: maximize\n",
            "# ----------------------------------------------------------\n",
            "#   Solver Information\n",
            "# ----------------------------------------------------------\n",
            "Solver: \n",
            "- Status: ok\n",
            "  Termination condition: optimal\n",
            "  Statistics: \n",
            "    Branch and bound: \n",
            "      Number of bounded subproblems: 0\n",
            "      Number of created subproblems: 0\n",
            "  Error rc: 0\n",
            "  Time: 0.004449605941772461\n",
            "# ----------------------------------------------------------\n",
            "#   Solution Information\n",
            "# ----------------------------------------------------------\n",
            "Solution: \n",
            "- number of solutions: 0\n",
            "  number of solutions displayed: 0\n",
            "Valor óptimo de x_1: 42.0\n",
            "Valor óptimo de x_2: 16.0\n",
            "Valor óptimo de Z: 190.0\n"
          ]
        }
      ]
    },
    {
      "cell_type": "code",
      "source": [
        "\n",
        "print(\"Restricción 1, evaluavión en puntos optimos: \")\n",
        "print(2*42+16)\n",
        "print(\"Restricción 2, evaluación en puntos optimos:\")\n",
        "print(42+16*3)\n"
      ],
      "metadata": {
        "colab": {
          "base_uri": "https://localhost:8080/"
        },
        "id": "4zBJdMiTYDRP",
        "outputId": "2700f1ef-76ab-4a7f-f449-1dadec5fa60e"
      },
      "execution_count": null,
      "outputs": [
        {
          "output_type": "stream",
          "name": "stdout",
          "text": [
            "Restricción 1, evaluavión en puntos optimos: \n",
            "100\n",
            "Restricción 2, evaluación en puntos optimos:\n",
            "90\n"
          ]
        }
      ]
    },
    {
      "cell_type": "code",
      "source": [
        "model.display()"
      ],
      "metadata": {
        "colab": {
          "base_uri": "https://localhost:8080/"
        },
        "id": "W0cXAw5LX5A3",
        "outputId": "c75baea9-05f1-4a14-864f-1a46639902b9"
      },
      "execution_count": null,
      "outputs": [
        {
          "output_type": "stream",
          "name": "stdout",
          "text": [
            "Model unknown\n",
            "\n",
            "  Variables:\n",
            "    x_1 : Size=1, Index=None\n",
            "        Key  : Lower : Value : Upper : Fixed : Stale : Domain\n",
            "        None :     0 :  42.0 :  None : False : False : NonNegativeReals\n",
            "    x_2 : Size=1, Index=None\n",
            "        Key  : Lower : Value : Upper : Fixed : Stale : Domain\n",
            "        None :     0 :  16.0 :  None : False : False : NonNegativeReals\n",
            "\n",
            "  Objectives:\n",
            "    obj : Size=1, Index=None, Active=True\n",
            "        Key  : Active : Value\n",
            "        None :   True : 190.0\n",
            "\n",
            "  Constraints:\n",
            "    con1 : Size=1\n",
            "        Key  : Lower : Body  : Upper\n",
            "        None :  None : 100.0 : 100.0\n",
            "    con2 : Size=1\n",
            "        Key  : Lower : Body : Upper\n",
            "        None :  None : 90.0 :  90.0\n"
          ]
        }
      ]
    },
    {
      "cell_type": "markdown",
      "source": [
        "### Función objetivo\n",
        "\n",
        "$$\n",
        "\\text{Max } Z = 3x_1 + 4x_2\n",
        "$$\n",
        "Restricciones de actividades:\n",
        "$$\n",
        "2x_1 + x_2 \\leq 100\n",
        "$$\n",
        "$$\n",
        "x_1 + 3x_2 \\leq 90\n",
        "$$\n",
        "Restricciones de no negatividad:\n",
        "\n",
        "$$\n",
        "x_1 \\geq 0\n",
        "$$\n",
        "$$\n",
        "x_2 \\geq 0\n",
        "$$"
      ],
      "metadata": {
        "id": "no4SToABVV3z"
      }
    },
    {
      "cell_type": "markdown",
      "source": [
        "## Problema dual\n",
        "\n",
        "Función objetivo\n",
        "\n",
        " $$ \\text{Min } W = 100y_1 + 90y_2$$\n",
        "S.a:\n",
        "\\begin{align}\n",
        "    2y_1 + y_2 \\geq 3\\\\\n",
        "    y_1 + 3y_2 \\geq 4\\\\\n",
        "\\end{align}\n",
        "Restricción de no negatividad:\n",
        "$y_1, y_2 \\geq 0$"
      ],
      "metadata": {
        "id": "bRqydjJBSsRQ"
      }
    },
    {
      "cell_type": "markdown",
      "source": [
        "Complete el siguiente código.\n",
        "Para completarlo, lea los comentarios del código, los cuales le dirán lo que tiene que completar."
      ],
      "metadata": {
        "id": "L7RsggN-lIiy"
      }
    },
    {
      "cell_type": "code",
      "source": [
        "# Creamos el modelo\n",
        "model = ConcreteModel()\n",
        "\n",
        "# Definimos las variables de decisión\n",
        "model.y_1 = Var(within=NonNegativeReals)  # y_1 >= 0\n",
        "model.y_2 = Var(within=NonNegativeReals)  # y_2 >= 0\n",
        "\n",
        "\n",
        "# Definimos la función objetivo\n",
        "model.obj = Objective(expr=100*model.y_1 + 90*model.y_2, sense=minimize)\n",
        "\n",
        "\n",
        "# Definimos las restricciones\n",
        "# Complete con la restricción 1:\n",
        "model.con1 = Constraint(expr= 2*model.y_1 + model.y_2 >= 3)\n",
        "# Complete con la restricción 2:\n",
        "model.con2 = Constraint(expr= model.y_1 + 3*model.y_2 >= 4)\n",
        "\n",
        "\n",
        "# Creamos un solver, por ejemplo GLPK\n",
        "solver = SolverFactory('glpk', executable='/usr/bin/glpsol').solve(model).write()# SolverFactory('glpk')\n",
        "\n",
        "\n",
        "# # Resolvemos el problema\n",
        "# solver.solve(model)\n",
        "\n",
        "# Mostramos los resultados\n",
        "print(f\"Valor óptimo de y_1: {model.y_1()}\")\n",
        "print(f\"Valor óptimo de y_2: {model.y_2()}\")\n",
        "print(f\"Valor óptimo de W: {model.obj()}\")\n",
        "\n",
        "\n"
      ],
      "metadata": {
        "id": "-gzPr535jvIv",
        "colab": {
          "base_uri": "https://localhost:8080/"
        },
        "outputId": "eefd9e25-2dc9-4c87-9022-f619069058aa"
      },
      "execution_count": null,
      "outputs": [
        {
          "output_type": "stream",
          "name": "stdout",
          "text": [
            "# ==========================================================\n",
            "# = Solver Results                                         =\n",
            "# ==========================================================\n",
            "# ----------------------------------------------------------\n",
            "#   Problem Information\n",
            "# ----------------------------------------------------------\n",
            "Problem: \n",
            "- Name: unknown\n",
            "  Lower bound: 190.0\n",
            "  Upper bound: 190.0\n",
            "  Number of objectives: 1\n",
            "  Number of constraints: 2\n",
            "  Number of variables: 2\n",
            "  Number of nonzeros: 4\n",
            "  Sense: minimize\n",
            "# ----------------------------------------------------------\n",
            "#   Solver Information\n",
            "# ----------------------------------------------------------\n",
            "Solver: \n",
            "- Status: ok\n",
            "  Termination condition: optimal\n",
            "  Statistics: \n",
            "    Branch and bound: \n",
            "      Number of bounded subproblems: 0\n",
            "      Number of created subproblems: 0\n",
            "  Error rc: 0\n",
            "  Time: 0.002391338348388672\n",
            "# ----------------------------------------------------------\n",
            "#   Solution Information\n",
            "# ----------------------------------------------------------\n",
            "Solution: \n",
            "- number of solutions: 0\n",
            "  number of solutions displayed: 0\n",
            "Valor óptimo de y_1: 1.0\n",
            "Valor óptimo de y_2: 1.0\n",
            "Valor óptimo de W: 190.0\n"
          ]
        }
      ]
    },
    {
      "cell_type": "markdown",
      "source": [
        "# Problema de Wyndor Glass\n",
        "\n",
        "Problema primal en forma algebraica\n",
        "                \n",
        "Maximizar $Z = 3x_1 + 5x_2,$ sujeta a\n",
        "                \\begin{align*}\n",
        "                    x_1 &\\le 4 \\\\\n",
        "                    2x_2 &\\le 12 \\\\\n",
        "                    3x_1 + 2x_2 &\\le 18 \\\\\n",
        "                    x_1 &\\ge 0, \\quad x_2 \\ge 0.\n",
        "                \\end{align*}\n"
      ],
      "metadata": {
        "id": "gKs_cZsKZFXn"
      }
    },
    {
      "cell_type": "code",
      "source": [
        "# Creamos el modelo\n",
        "model = ConcreteModel()\n",
        "\n",
        "# Definimos las variables de decisión\n",
        "model.x_1 = Var(within=NonNegativeReals)  # x_1 >= 0\n",
        "model.x_2 = Var(within=NonNegativeReals)  # x_2 >= 0\n",
        "\n",
        "\n",
        "# Definimos la función objetivo\n",
        "model.obj = Objective(expr=3*model.x_1 + 5*model.x_2, sense=maximize)\n",
        "\n",
        "\n",
        "# Definimos las restricciones\n",
        "# Complete con la restricción 1:\n",
        "model.con1 = Constraint(expr= model.x_1 <= 4)\n",
        "# Complete con la restricción 2:\n",
        "model.con2 = Constraint(expr= model.x_2 <= 6)\n",
        "# Complete con la restricción 3:\n",
        "model.con3 = Constraint(expr= 3*model.x_1 + 2*model.x_2 <= 18)\n",
        "\n",
        "\n",
        "# Creamos un solver, por ejemplo GLPK\n",
        "solver = SolverFactory('glpk', executable='/usr/bin/glpsol').solve(model).write()# SolverFactory('glpk')\n",
        "\n",
        "\n",
        "# # Resolvemos el problema\n",
        "# solver.solve(model)\n",
        "\n",
        "# Mostramos los resultados\n",
        "print(f\"Valor óptimo de x_1: {model.x_1()}\")\n",
        "print(f\"Valor óptimo de x_2: {model.x_2()}\")\n",
        "print(f\"Valor óptimo de W: {model.obj()}\")\n"
      ],
      "metadata": {
        "id": "kEFJvuw9Z3ku",
        "colab": {
          "base_uri": "https://localhost:8080/"
        },
        "outputId": "d84b2174-fd3f-429c-ea33-1d7d756050d4"
      },
      "execution_count": null,
      "outputs": [
        {
          "output_type": "stream",
          "name": "stdout",
          "text": [
            "# ==========================================================\n",
            "# = Solver Results                                         =\n",
            "# ==========================================================\n",
            "# ----------------------------------------------------------\n",
            "#   Problem Information\n",
            "# ----------------------------------------------------------\n",
            "Problem: \n",
            "- Name: unknown\n",
            "  Lower bound: 36.0\n",
            "  Upper bound: 36.0\n",
            "  Number of objectives: 1\n",
            "  Number of constraints: 3\n",
            "  Number of variables: 2\n",
            "  Number of nonzeros: 4\n",
            "  Sense: maximize\n",
            "# ----------------------------------------------------------\n",
            "#   Solver Information\n",
            "# ----------------------------------------------------------\n",
            "Solver: \n",
            "- Status: ok\n",
            "  Termination condition: optimal\n",
            "  Statistics: \n",
            "    Branch and bound: \n",
            "      Number of bounded subproblems: 0\n",
            "      Number of created subproblems: 0\n",
            "  Error rc: 0\n",
            "  Time: 0.0030384063720703125\n",
            "# ----------------------------------------------------------\n",
            "#   Solution Information\n",
            "# ----------------------------------------------------------\n",
            "Solution: \n",
            "- number of solutions: 0\n",
            "  number of solutions displayed: 0\n",
            "Valor óptimo de x_1: 2.0\n",
            "Valor óptimo de x_2: 6.0\n",
            "Valor óptimo de W: 36.0\n"
          ]
        }
      ]
    },
    {
      "cell_type": "markdown",
      "source": [
        "# Problema dual de Wyndor Glass\n",
        "\n",
        "PLANTEA AQUÍ EL PROBLEMA DUAL Y OPTIMIZA, AL FINAL DAME LA INTERPRETACIÓN DE TUS RESULTADOS, Y HAS UN ANÁLISIS DE SENSIBILIDAD CON TUS RESULTADOS.\n",
        "LOS RESULTADOS ESPERADOS SON LOS SIGUIENTS:\n",
        "\n",
        "- Valor óptimo de y_1: 0.0\n",
        "\n",
        "- Valor óptimo de y_2: 1.5\n",
        "- Valor óptimo de y_3: 1.0\n",
        "\n",
        "- Valor óptimo de W: 27.0"
      ],
      "metadata": {
        "id": "vsR-AnZJbMSA"
      }
    },
    {
      "cell_type": "code",
      "source": [
        "# Creamos el modelo\n",
        "model = ConcreteModel()\n",
        "\n",
        "# Definimos las variables de decisión\n",
        "model.y_1 = Var(within=NonNegativeReals)  # y_1 >= 0\n",
        "model.y_2 = Var(within=NonNegativeReals)  # y_2 >= 0\n",
        "model.y_3 = Var(within=NonNegativeReals)  # y_3 >= 0\n",
        "\n",
        "\n",
        "# Definimos la función objetivo\n",
        "model.obj = Objective(expr= 4*model.y_1 + 12*model.y_2 + 18*model.y_3, sense= minimize)\n",
        "\n",
        "\n",
        "# Definimos las restricciones\n",
        "# Complete con la restricción 1:\n",
        "model.con1 = Constraint(expr= model.y_1 + 3*model.y_3 >= 3)\n",
        "# Complete con la restricción 2:\n",
        "model.con2 = Constraint(expr= 2*model.y_2 + 2*model.y_3 >= 5)\n",
        "\n",
        "\n",
        "\n",
        "# Creamos un solver, por ejemplo GLPK\n",
        "solver = SolverFactory('glpk', executable='/usr/bin/glpsol').solve(model).write()# SolverFactory('glpk')\n",
        "\n",
        "\n",
        "# # Resolvemos el problema\n",
        "# solver.solve(model)\n",
        "\n",
        "# Mostramos los resultados\n",
        "print(f\"Valor óptimo de y_1: {model.y_1()}\")\n",
        "print(f\"Valor óptimo de y_2: {model.y_2()}\")\n",
        "print(f\"Valor óptimo de y_3: {model.y_3()}\")\n",
        "print(f\"Valor óptimo de W: {model.obj()}\")\n"
      ],
      "metadata": {
        "id": "PIMWXMbbahnS",
        "colab": {
          "base_uri": "https://localhost:8080/"
        },
        "outputId": "5c105ed7-c4e4-41e1-d069-32fc303b3c94"
      },
      "execution_count": null,
      "outputs": [
        {
          "output_type": "stream",
          "name": "stdout",
          "text": [
            "# ==========================================================\n",
            "# = Solver Results                                         =\n",
            "# ==========================================================\n",
            "# ----------------------------------------------------------\n",
            "#   Problem Information\n",
            "# ----------------------------------------------------------\n",
            "Problem: \n",
            "- Name: unknown\n",
            "  Lower bound: 36.0\n",
            "  Upper bound: 36.0\n",
            "  Number of objectives: 1\n",
            "  Number of constraints: 2\n",
            "  Number of variables: 3\n",
            "  Number of nonzeros: 4\n",
            "  Sense: minimize\n",
            "# ----------------------------------------------------------\n",
            "#   Solver Information\n",
            "# ----------------------------------------------------------\n",
            "Solver: \n",
            "- Status: ok\n",
            "  Termination condition: optimal\n",
            "  Statistics: \n",
            "    Branch and bound: \n",
            "      Number of bounded subproblems: 0\n",
            "      Number of created subproblems: 0\n",
            "  Error rc: 0\n",
            "  Time: 0.0024704933166503906\n",
            "# ----------------------------------------------------------\n",
            "#   Solution Information\n",
            "# ----------------------------------------------------------\n",
            "Solution: \n",
            "- number of solutions: 0\n",
            "  number of solutions displayed: 0\n",
            "Valor óptimo de y_1: 0.0\n",
            "Valor óptimo de y_2: 1.5\n",
            "Valor óptimo de y_3: 1.0\n",
            "Valor óptimo de W: 36.0\n"
          ]
        }
      ]
    },
    {
      "cell_type": "markdown",
      "source": [
        "si agregamos una unidad de y2 la funcion objetivo crecera en 1.5, la y3 si aumentamos en 1 aumentara la funcion objetivo en 1"
      ],
      "metadata": {
        "id": "FUtqaYp3yIGt"
      }
    }
  ]
}