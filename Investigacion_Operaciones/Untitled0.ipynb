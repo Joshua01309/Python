{
  "nbformat": 4,
  "nbformat_minor": 0,
  "metadata": {
    "colab": {
      "provenance": []
    },
    "kernelspec": {
      "name": "python3",
      "display_name": "Python 3"
    },
    "language_info": {
      "name": "python"
    }
  },
  "cells": [
    {
      "cell_type": "markdown",
      "source": [
        "Crea un programa que pida al usuario dos números, si el primero es mayor que el segundo, imprime los números de mayor a menor, el orden correspondiente, de lo contrario, imprime dándoles el orden correspondiente de mayor a menor.\n",
        "Pide al usuario un valor menor a 20, si es mayor a o igual a 20, dile al usuario que “el número es demasiado grande”, de lo contrario\n",
        "dile: “gracias”.\n",
        "Pregunta al usuario por su color favorito. si el color es rojo dile que también te gusta el color rojo, de lo contrario dile al usuario que a ti no te gusta ese color, y que gracias."
      ],
      "metadata": {
        "id": "Fnade6ABk3zo"
      }
    },
    {
      "cell_type": "code",
      "source": [
        "num1 = float(input(\"Ingrese el primer número: \"))\n",
        "num2 = float(input(\"Ingrese el segundo número: \"))\n",
        "\n",
        "if num1 > num2:\n",
        "    print(f\"Números de mayor a menor: {num1}, {num2}\")\n",
        "else:\n",
        "    print(f\"Números de mayor a menor: {num2}, {num1}\")\n",
        "\n",
        "\n",
        "valor = float(input(\"Ingrese un valor menor a 20: \"))\n",
        "if valor >= 20:\n",
        "    print(\"El número es demasiado grande\")\n",
        "else:\n",
        "    print(\"Gracias\")\n",
        "\n",
        "\n",
        "color = input(\"¿Cuál es tu color favorito? \").lower()\n",
        "if color == \"rojo\":\n",
        "    print(\"¡A mí también me gusta el color rojo!\")\n",
        "else:\n",
        "    print(f\"A mí no me gusta el color {color}, pero gracias.\")"
      ],
      "metadata": {
        "colab": {
          "base_uri": "https://localhost:8080/"
        },
        "id": "6xnTu9X0sVCx",
        "outputId": "59f0768f-321b-49fa-8e3f-c29847a5f09f"
      },
      "execution_count": null,
      "outputs": [
        {
          "output_type": "stream",
          "name": "stdout",
          "text": [
            "Ingrese el primer número: 9\n",
            "Ingrese el segundo número: 0\n",
            "Números de mayor a menor: 9.0, 0.0\n",
            "Ingrese un valor menor a 20: 7\n",
            "Gracias\n",
            "¿Cuál es tu color favorito? rojo\n",
            "¡A mí también me gusta el color rojo!\n"
          ]
        }
      ]
    }
  ]
}