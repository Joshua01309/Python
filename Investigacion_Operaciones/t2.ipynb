{
  "nbformat": 4,
  "nbformat_minor": 0,
  "metadata": {
    "colab": {
      "provenance": []
    },
    "kernelspec": {
      "name": "python3",
      "display_name": "Python 3"
    },
    "language_info": {
      "name": "python"
    }
  },
  "cells": [
    {
      "cell_type": "code",
      "execution_count": null,
      "metadata": {
        "id": "i71C-jCKRf3L"
      },
      "outputs": [],
      "source": [
        "# string y sliding\n",
        "string = 'Helado de vainilla'\n",
        "print(string.upper())\n",
        "print(string.lower())\n",
        "print(string.capitalize())\n",
        "print(string.title())\n",
        "print(string.replace('vainilla', 'chocolate'))\n",
        "print(string.split(' '))\n",
        "print(string.strip())\n",
        "print(string.lstrip())\n",
        "print(string.split())\n",
        "print(string.join(''))\n",
        "print(string.find('vainilla'))\n",
        "print(string.count('a'))\n",
        "\n",
        "#numero de caracteres\n",
        "nombre = input('nombre').lower()\n",
        "print(len(nombre))\n",
        "# pide al usuario su nombre y apellido, concatena e imprime el resultado y tambien imprime\n",
        "# el numero de caracteres\n",
        "nombre = input('nombre').lower()\n",
        "apellido = input('apellido').lower()\n",
        "sumatoria = len(nombre) + len(apellido)\n",
        "print(f'tu nombre es {nombre} y tu apellido {apellido} y tienen el numero de caracteres {sumatoria}')\n",
        "\n",
        "#Pide al usuario su primer nombre, si el número de caracteres es menor a 5, pide su apellido, concatena,\n",
        "# pasa todo a mayúsculas e imprime, de lo contrario imprime todo en minúsculas\n",
        "nombre = input('dame tu nombre ')\n",
        "nombre_len = len(nombre)\n",
        "apellido = input('dame tu apellido ')\n",
        "if nombre_len < 5:\n",
        "    print(f'tu nombre es {nombre.upper()} y tu apellido es {apellido.upper()} ')\n",
        "else:\n",
        "    print(f'tu nombre es {nombre.lower()} y tu apellido es {apellido.lower()}')\n",
        "\n",
        "\n"
      ]
    },
    {
      "cell_type": "code",
      "source": [
        "# modulos\n",
        "import math  # Importa el módulo math\n",
        "\n",
        "hola = math.sqrt(4)  # Calcula la raíz cuadrada de 4\n",
        "print(hola)  # Imprime: 2.0\n",
        "\n",
        "# Crea un programa que pida un número al usuario y lo multiplique por dos.\n",
        "\n",
        "import math  # Importa el módulo math\n",
        "num = int(input('dame un numero '))\n",
        "num_2 = num * 2\n",
        "print(f'Tu numero multiplicado por 2 es {num_2}')\n",
        "\n",
        "\n",
        "import math  # Importa el módulo math\n",
        "\n",
        "# Pide al usuario un número, calcula su raíz cuadrada y muestra el resultado redondeado a 2 decimales\n",
        "num = int(input('dame un numero '))\n",
        "raiz_cuadrada = math.sqrt(num)\n",
        "raiz_cuadrada_redondeada = round(raiz_cuadrada, 2)\n",
        "print(f'La raíz cuadrada de tu número, redondeada a 2 decimales, es {raiz_cuadrada_redondeada}')\n",
        "\n",
        "# Muestra el valor de pi, usando math, y mostrarlo con 5 decimales.\n",
        "valor_pi = round(math.pi, 5)\n",
        "print(f'El valor de pi con 5 decimales es {valor_pi}')\n",
        "\n",
        "#Crea un programa que pida al usuario el radio de un círculo y luego devuelva su área.\n",
        "radio = float(input('Dame el radio de un círculo: '))\n",
        "area = math.pi * (radio ** 2)\n",
        "print(f'El área del círculo con radio {radio} es {area}')\n",
        "\n",
        "# Pide al usuario la altura y radio de un cilindro y devuelve su volumen.\n",
        "altura = float(input('Dame la altura del cilindro: '))\n",
        "radio = float(input('Dame el radio del cilindro: '))\n",
        "volumen = math.pi * (radio ** 2) * altura\n",
        "print(f'El volumen del cilindro con altura {altura} y radio {radio} es {volumen}')"
      ],
      "metadata": {
        "id": "GZlpcgMZV6r2"
      },
      "execution_count": null,
      "outputs": []
    }
  ]
}