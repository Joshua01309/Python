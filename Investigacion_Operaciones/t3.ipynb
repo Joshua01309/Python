{
  "nbformat": 4,
  "nbformat_minor": 0,
  "metadata": {
    "colab": {
      "provenance": []
    },
    "kernelspec": {
      "name": "python3",
      "display_name": "Python 3"
    },
    "language_info": {
      "name": "python"
    }
  },
  "cells": [
    {
      "cell_type": "code",
      "execution_count": null,
      "metadata": {
        "id": "n6xK1W0HX7uQ"
      },
      "outputs": [],
      "source": []
    },
    {
      "cell_type": "code",
      "source": [
        "# Pide al usuario su nombre y muestralo 3 veces.\n",
        "name = input('Dame tu nombre: ')\n",
        "for nombre in range(3):\n",
        "    print(name)\n",
        "\n",
        "# Pide al usuario su nombre y un número, luego, muestra el nombre el número de veces que dio el usuario.\n",
        "name = input('Dame tu nombre: ')\n",
        "numero = int(input('Cuantas veces quieres que se repita tu nombre: '))\n",
        "for nombre in range(numero):\n",
        "    print(f'Tu nombre es {name}')\n",
        "\n",
        "# Pide al usuario su nombre, y luego muestra cada letra de su nombre (ojo en este ejercicio, Paco).\n",
        "name = input('Dame tu nombre: ')\n",
        "for letra in name:\n",
        "    print(letra)\n",
        "\n",
        "# Repite el código anterior, pero repitelo una n cantidad de veces que quiera el usuario.\n",
        "name = input('Dame tu nombre: ')\n",
        "numero = int(input('Cuantas veces quieres que se repita cada letra: '))\n",
        "for letra in name:\n",
        "    for i in range(numero):\n",
        "        print(letra)\n",
        "\n",
        "# Crea un programa que pida un número entre 1 y 13, después ese número multiplica por 1, 2, …\n",
        "# hasta el 12, y mostrar los resultados.\n",
        "numeros = int(input('Dame un numero del 1 al 13: '))\n",
        "if numeros <= 13:\n",
        "    for idx in range(1, 13):\n",
        "        resultado = numeros * idx\n",
        "        print(f'{numeros} x {idx} = {resultado}')\n",
        "else:\n",
        "    print(f'El numero {numeros} es muy grande ingresa otro')\n",
        "\n",
        "# Crea un programa que pida un número menor a 50, y luego mostrar los\n",
        "# números desde el 50 hasta el número que dio el usuario (esto de manera descendente).\n",
        "numeros = int(input('Dame cualquier numero < 50: '))\n",
        "if numeros < 50:\n",
        "    for i in range(50, int(numeros)-1, -1):\n",
        "        print(i)\n",
        "else:\n",
        "    print('El número ingresado no es menor a 50')\n",
        "\n",
        "# Crea un programa que pida al usuario 5 números (usando el ciclo for), y\n",
        "# preguntar que si quiere que esos valores se sumen a un contadora (llamado total).\n",
        "# Al final  muestra el resultado.\n",
        "total = 0\n",
        "for valor in range(5):\n",
        "    numeros = int(input(f'Ingresa 5 numeros (se repitara hasta ingresar los 5 el {valor} : '))\n",
        "    suma = input('Quieres que los numeros se sumen a un total (s/n) ').lower()\n",
        "    if suma == 's':\n",
        "        total +=numeros\n",
        "    print(f'la sumatoria es {total}' )"
      ],
      "metadata": {
        "id": "6U3bUvzWX-Mo"
      },
      "execution_count": null,
      "outputs": []
    },
    {
      "cell_type": "code",
      "source": [
        "# Pregunta al usuario cuantos invitados quiere invitar a su fiesta.\n",
        "# Si los invitados son mayores o igual 10, decir al usuario que son demasiados invitados,\n",
        "# de lo contrario, pedir al usuario el nombre del invitado y decirle que ese invitado ha sido invitado.\n",
        "import csv\n",
        "\n",
        "num = int(input('Cuantas personas planeas invitar: '))\n",
        "invitados = []\n",
        "if num <= 10:\n",
        "    for i in range(num):\n",
        "        nombre = input(f'ok, nombre del invitado {i+1}: ')\n",
        "        invitados.append(nombre)\n",
        "    for invitado in invitados:\n",
        "        print(f'{invitado} ha sido invitado')\n",
        "else:\n",
        "    print('Son muchos invitados, elimina a quienes no son tus amigos')\n",
        "\n",
        "# Guardar la lista de invitados en un archivo .csv\n",
        "\n",
        "with open('invitados.csv', mode='w', newline='') as file:\n",
        "    writer = csv.writer(file)\n",
        "    writer.writerow(['Nombre'])  # Escribir la cabecera\n",
        "    for invitado in invitados:\n",
        "        writer.writerow([invitado])  # Escribir cada invitado en una nueva fila\n"
      ],
      "metadata": {
        "colab": {
          "base_uri": "https://localhost:8080/"
        },
        "id": "YFyqdQgjYDZq",
        "outputId": "f024b64e-5bef-4c34-f8f4-a622d5e00631"
      },
      "execution_count": null,
      "outputs": [
        {
          "output_type": "stream",
          "name": "stdout",
          "text": [
            "Cuantas personas planeas invitar: 2\n",
            "ok, nombre del invitado 1: carlos\n",
            "ok, nombre del invitado 2: kevin\n",
            "carlos ha sido invitado\n",
            "kevin ha sido invitado\n"
          ]
        }
      ]
    }
  ]
}