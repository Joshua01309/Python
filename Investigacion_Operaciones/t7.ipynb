{
  "nbformat": 4,
  "nbformat_minor": 0,
  "metadata": {
    "colab": {
      "provenance": []
    },
    "kernelspec": {
      "name": "python3",
      "display_name": "Python 3"
    },
    "language_info": {
      "name": "python"
    }
  },
  "cells": [
    {
      "cell_type": "code",
      "source": [
        "def x_1(d_1, d_2):\n",
        "    return 100 + .5*(d_1 - 430) - .25*(d_2 - 460)\n",
        "\n",
        "def x_3(d_2):\n",
        "    return 230 + .5*(d_2 - 460)\n",
        "\n",
        "def x_6(d_1, d_2, d_3):\n",
        "    return 20 - 2*(d_1 - 430) + (d_2 - 460) + (d_3 - 420)"
      ],
      "metadata": {
        "id": "aZi2W260iBF6"
      },
      "execution_count": null,
      "outputs": []
    },
    {
      "cell_type": "code",
      "source": [
        "d_1 = 90\n",
        "d_2 = 4\n",
        "d_3 = 100\n",
        "print(x_1(d_1=d_1, d_2=d_2), x_3(d_2=d_2), x_6(d_1=d_1, d_2=d_2, d_3=d_3))"
      ],
      "metadata": {
        "colab": {
          "base_uri": "https://localhost:8080/"
        },
        "id": "L-JIya7viAhV",
        "outputId": "b554dce5-d6a8-41e3-f2ab-779e0774196b"
      },
      "execution_count": null,
      "outputs": [
        {
          "output_type": "stream",
          "name": "stdout",
          "text": [
            "44.0 2.0 -76\n"
          ]
        }
      ]
    },
    {
      "cell_type": "code",
      "source": [
        "d_1 = 90\n",
        "d_2 = 4\n",
        "d_3 = 100\n",
        "\n",
        "\n",
        "x1 = x_1(d_1=d_1, d_2=d_2)\n",
        "x3 = x_3(d_2=d_2)\n",
        "x6 = x_6(d_1=d_1, d_2=d_2, d_3=d_3)\n",
        "\n",
        "\n",
        "if x1 < 0:\n",
        "    print(\"Es un valor factible\")\n",
        "else:\n",
        "    print(\"Valor no factible\")\n",
        "if x3 < 0:\n",
        "    print(\"Es un valor factible\")\n",
        "else:\n",
        "    print(\"Valor no factible\")\n",
        "if x6 < 0:\n",
        "    print(\"Es un valor factible\")\n",
        "else:\n",
        "    print(\"Valor no factible\")"
      ],
      "metadata": {
        "colab": {
          "base_uri": "https://localhost:8080/"
        },
        "id": "Zny83yUPiAff",
        "outputId": "140091f3-51b8-486e-a63b-1bb7d8f0d5fd"
      },
      "execution_count": null,
      "outputs": [
        {
          "output_type": "stream",
          "name": "stdout",
          "text": [
            "Valor no factible\n",
            "Valor no factible\n",
            "Es un valor factible\n"
          ]
        }
      ]
    },
    {
      "cell_type": "code",
      "source": [
        "valores_invalidos = []\n",
        "valores_validos = []\n",
        "for i_1 in range(1, 100):\n",
        "    for i_2 in range(1, 100):\n",
        "        for i_3 in range(1, 100):\n",
        "            d_1 = i_1\n",
        "            d_2 = i_2\n",
        "            d_3 = i_3\n",
        "\n",
        "\n",
        "            x1 = x_1(d_1=d_1, d_2=d_2)\n",
        "            x3 = x_3(d_2=d_2)\n",
        "            x6 = x_6(d_1=d_1, d_2=d_2, d_3=d_3)\n",
        "\n",
        "\n",
        "            if x1 > 0:\n",
        "                pass\n",
        "            else:\n",
        "                valores_invalidos.append((d_1, d_2, d_3))\n",
        "\n",
        "            if x3 > 0:\n",
        "                pass\n",
        "            else:\n",
        "                valores_invalidos.append((d_1, d_2, d_3))\n",
        "\n",
        "            if x6 > 0:\n",
        "                pass\n",
        "            else:\n",
        "                valores_invalidos.append((d_1, d_2, d_3))\n",
        "            if x1 > 0 and x3 > 0 and x6 >0:\n",
        "                valores_validos.append((d_1, d_2, d_3))\n",
        "print(\"d_1, d_2, d_3\")\n",
        "print(d_1, d_2, d_3)"
      ],
      "metadata": {
        "colab": {
          "base_uri": "https://localhost:8080/"
        },
        "id": "7WzQS9S7iAdX",
        "outputId": "72d59c96-049f-41e3-904f-56f9bac2fbfd"
      },
      "execution_count": null,
      "outputs": [
        {
          "output_type": "stream",
          "name": "stdout",
          "text": [
            "d_1, d_2, d_3\n",
            "99 99 99\n"
          ]
        }
      ]
    },
    {
      "cell_type": "code",
      "source": [
        "valores_validos"
      ],
      "metadata": {
        "id": "S_LbdHrXmRYC"
      },
      "execution_count": null,
      "outputs": []
    },
    {
      "cell_type": "code",
      "source": [
        "len(valores_validos)"
      ],
      "metadata": {
        "colab": {
          "base_uri": "https://localhost:8080/"
        },
        "id": "rfLT2vW-nsh0",
        "outputId": "66db0231-274c-48bf-e666-8d84221e7390"
      },
      "execution_count": null,
      "outputs": [
        {
          "output_type": "execute_result",
          "data": {
            "text/plain": [
              "240149"
            ]
          },
          "metadata": {},
          "execution_count": 33
        }
      ]
    },
    {
      "cell_type": "code",
      "source": [
        "d_1 = 4\n",
        "d_2 = 2\n",
        "d_3 = 41\n",
        "\n",
        "\n",
        "x1 = x_1(d_1=d_1, d_2=d_2)\n",
        "x3 = x_3(d_2=d_2)\n",
        "x6 = x_6(d_1=d_1, d_2=d_2, d_3=d_3)\n",
        "\n"
      ],
      "metadata": {
        "colab": {
          "base_uri": "https://localhost:8080/"
        },
        "id": "6x7cVvm7nW5p",
        "outputId": "385414ea-4526-4438-9a90-3f713c24d7a3"
      },
      "execution_count": null,
      "outputs": [
        {
          "output_type": "stream",
          "name": "stdout",
          "text": [
            "Valor no factible\n",
            "Valor no factible\n",
            "Valor no factible\n"
          ]
        }
      ]
    },
    {
      "cell_type": "code",
      "source": [
        "d_1 = 4\n",
        "d_2 = 2\n",
        "d_3 = 41\n",
        "x1 = x_1(d_1=d_1, d_2=d_2)\n",
        "x3 = x_3(d_2=d_2)\n",
        "x6 = x_6(d_1=d_1, d_2=d_2, d_3=d_3)\n",
        "print(\"x1, x3, x6\")\n",
        "print(x1, x3, x6)"
      ],
      "metadata": {
        "colab": {
          "base_uri": "https://localhost:8080/"
        },
        "id": "fgcxzpGIiAbC",
        "outputId": "1130497e-2068-4fc3-8bfc-138c33307c65"
      },
      "execution_count": null,
      "outputs": [
        {
          "output_type": "stream",
          "name": "stdout",
          "text": [
            "x1, x3, x6\n",
            "1.5 1.0 35\n"
          ]
        }
      ]
    },
    {
      "cell_type": "code",
      "source": [],
      "metadata": {
        "id": "DndcT0MriAY7"
      },
      "execution_count": null,
      "outputs": []
    },
    {
      "cell_type": "code",
      "source": [],
      "metadata": {
        "id": "5fJq5CB9iAWU"
      },
      "execution_count": null,
      "outputs": []
    },
    {
      "cell_type": "code",
      "source": [],
      "metadata": {
        "id": "FpjxAyE4iAT_"
      },
      "execution_count": null,
      "outputs": []
    },
    {
      "cell_type": "code",
      "source": [],
      "metadata": {
        "id": "v83liuQXiARb"
      },
      "execution_count": null,
      "outputs": []
    },
    {
      "cell_type": "code",
      "source": [],
      "metadata": {
        "id": "TLvlO2UNiAPD"
      },
      "execution_count": null,
      "outputs": []
    },
    {
      "cell_type": "code",
      "source": [],
      "metadata": {
        "id": "ZmRMrWynh_6_"
      },
      "execution_count": null,
      "outputs": []
    },
    {
      "cell_type": "markdown",
      "source": [
        "Optimizar el siguiente problema:\n",
        "\n",
        "\n",
        "$$\\text{Max  } Z = 450x_1 + 120x_2 + 22x_3 +28x_4 - 28x_5$$\n",
        "\n",
        "$$\n",
        "0.1x_1 + x_2  +x_4 \\leq 800\n",
        "$$\n",
        "\n",
        "$$\n",
        "0.05x_1 + 2x_2 + 3x_4  \\leq 1000\n",
        "$$\n",
        "\n",
        "$$\n",
        "5x_1 - x_3 + 4x_4 + x_5  = 0\n",
        "$$\n",
        "\n",
        "\n",
        "Donde $x_4$ son los costos de la empresa."
      ],
      "metadata": {
        "id": "dHpypQYxRN2A"
      }
    },
    {
      "cell_type": "code",
      "source": [
        "! pip install cplex\n",
        "! pip install docplex\n"
      ],
      "metadata": {
        "colab": {
          "base_uri": "https://localhost:8080/"
        },
        "id": "boV2rhqVTnnm",
        "outputId": "32b301a8-794c-4451-87e0-eec7a40761c3"
      },
      "execution_count": null,
      "outputs": [
        {
          "output_type": "stream",
          "name": "stdout",
          "text": [
            "Collecting cplex\n",
            "  Downloading cplex-22.1.2.0-cp311-cp311-manylinux2014_x86_64.whl.metadata (56 kB)\n",
            "\u001b[?25l     \u001b[90m━━━━━━━━━━━━━━━━━━━━━━━━━━━━━━━━━━━━━━━━\u001b[0m \u001b[32m0.0/57.0 kB\u001b[0m \u001b[31m?\u001b[0m eta \u001b[36m-:--:--\u001b[0m\r\u001b[2K     \u001b[90m━━━━━━━━━━━━━━━━━━━━━━━━━━━━━━━━━━━━━━━━\u001b[0m \u001b[32m57.0/57.0 kB\u001b[0m \u001b[31m1.9 MB/s\u001b[0m eta \u001b[36m0:00:00\u001b[0m\n",
            "\u001b[?25hDownloading cplex-22.1.2.0-cp311-cp311-manylinux2014_x86_64.whl (44.3 MB)\n",
            "\u001b[2K   \u001b[90m━━━━━━━━━━━━━━━━━━━━━━━━━━━━━━━━━━━━━━━━\u001b[0m \u001b[32m44.3/44.3 MB\u001b[0m \u001b[31m9.8 MB/s\u001b[0m eta \u001b[36m0:00:00\u001b[0m\n",
            "\u001b[?25hInstalling collected packages: cplex\n",
            "Successfully installed cplex-22.1.2.0\n",
            "Collecting docplex\n",
            "  Downloading docplex-2.29.241.tar.gz (645 kB)\n",
            "\u001b[2K     \u001b[90m━━━━━━━━━━━━━━━━━━━━━━━━━━━━━━━━━━━━━━━━\u001b[0m \u001b[32m645.5/645.5 kB\u001b[0m \u001b[31m18.2 MB/s\u001b[0m eta \u001b[36m0:00:00\u001b[0m\n",
            "\u001b[?25h  Installing build dependencies ... \u001b[?25l\u001b[?25hdone\n",
            "  Getting requirements to build wheel ... \u001b[?25l\u001b[?25hdone\n",
            "  Installing backend dependencies ... \u001b[?25l\u001b[?25hdone\n",
            "  Preparing metadata (pyproject.toml) ... \u001b[?25l\u001b[?25hdone\n",
            "Requirement already satisfied: six in /usr/local/lib/python3.11/dist-packages (from docplex) (1.17.0)\n",
            "Building wheels for collected packages: docplex\n",
            "  Building wheel for docplex (pyproject.toml) ... \u001b[?25l\u001b[?25hdone\n",
            "  Created wheel for docplex: filename=docplex-2.29.241-py3-none-any.whl size=685423 sha256=0b1663395d9ece5d94d52351460ebd2af6f80b56c483419ee62f6f0a4b4bf705\n",
            "  Stored in directory: /root/.cache/pip/wheels/00/4f/37/fbc42df1f9b6786024d4b39c81f0b373c84e6fab9e18513fc2\n",
            "Successfully built docplex\n",
            "Installing collected packages: docplex\n",
            "Successfully installed docplex-2.29.241\n"
          ]
        }
      ]
    },
    {
      "cell_type": "code",
      "source": [
        "import os\n",
        "# os.environ['CPLEX_STUDIO_BINARIES'] = '/path/to/cplex/bin'\n"
      ],
      "metadata": {
        "id": "JnTV1QK_WtIy"
      },
      "execution_count": null,
      "outputs": []
    },
    {
      "cell_type": "code",
      "source": [
        "# Cargar CPLEX\n",
        "from docplex.mp.model import Model"
      ],
      "metadata": {
        "id": "Y5j9fBH7TBHl"
      },
      "execution_count": null,
      "outputs": []
    },
    {
      "cell_type": "code",
      "source": [
        "# Iniciar el modelo\n",
        "model = Model(name='My_model')"
      ],
      "metadata": {
        "id": "twrk5ckWTEoV"
      },
      "execution_count": null,
      "outputs": []
    },
    {
      "cell_type": "code",
      "source": [
        "# Crear variables.\n",
        "x_1 = model.continuous_var(name='x_1')\n",
        "x_2 = model.continuous_var(name='x_2')\n",
        "x_3 = model.continuous_var(name='x_3')\n",
        "x_4 = model.continuous_var(name='x_4')\n",
        "x_5 = model.continuous_var(name='x_5')\n"
      ],
      "metadata": {
        "id": "5XRXQ14UTvUl"
      },
      "execution_count": null,
      "outputs": []
    },
    {
      "cell_type": "markdown",
      "source": [
        "\n",
        "\n",
        "$$\\text{Max  } Z = 450x_1 + 120x_2 + 22x_3 +28x_4 - 28x_5$$\n",
        "\n",
        "$$\n",
        "0.1x_1 + x_2  +x_4 \\leq 800\n",
        "$$\n",
        "\n",
        "$$\n",
        "0.05x_1 + 2x_2 + 3x_4  \\leq 1000\n",
        "$$\n",
        "\n",
        "$$\n",
        "5x_1 - x_3 + 4x_4 + x_5  = 0\n",
        "$$\n"
      ],
      "metadata": {
        "id": "Y6UTSsCmUXJh"
      }
    },
    {
      "cell_type": "code",
      "source": [
        "# Definir la función objetivo:\n",
        "model.maximize(450*x_1 + 120*x_2 + 22*x_3 + 28*x_4 - 28*x_5)\n",
        "# Definir las restricciones:\n",
        "model.add_constraint(0.1*x_1 + x_2 + x_4 <= 800)\n",
        "model.add_constraint(0.05*x_1 + 2*x_2 + 3*x_4 <= 1000)\n",
        "model.add_constraint(5*x_1 - x_3 + 4*x_4 + x_5 == 0)\n",
        "# Solucionar el modelo :\n",
        "solution = model.solve(log_output=1)"
      ],
      "metadata": {
        "id": "q3rS48NOUOwy"
      },
      "execution_count": null,
      "outputs": []
    },
    {
      "cell_type": "code",
      "source": [
        "solution.display()"
      ],
      "metadata": {
        "colab": {
          "base_uri": "https://localhost:8080/"
        },
        "id": "pe6McSwnVPdu",
        "outputId": "f8820584-5851-430f-9496-cafa3108b085"
      },
      "execution_count": null,
      "outputs": [
        {
          "output_type": "stream",
          "name": "stdout",
          "text": [
            "solution for: My_model\n",
            "objective: 4480000.000\n",
            "status: OPTIMAL_SOLUTION(2)\n",
            "x_1 = 8000.000\n",
            "x_3 = 40000.000\n"
          ]
        }
      ]
    },
    {
      "cell_type": "code",
      "source": [
        "list_contrains = []\n",
        "for i in range(model.number_of_constraints):\n",
        "    c = model.get_constraint_by_index(i)\n",
        "    list_contrains.append(c)\n",
        "    print(c)"
      ],
      "metadata": {
        "colab": {
          "base_uri": "https://localhost:8080/"
        },
        "id": "kVWquEIQW9F3",
        "outputId": "a1c62a5e-d936-4958-b328-be0527ba1381"
      },
      "execution_count": null,
      "outputs": [
        {
          "output_type": "stream",
          "name": "stdout",
          "text": [
            "0.100x_1+x_2+x_4 <= 800\n",
            "0.050x_1+2x_2+3x_4 <= 1000\n",
            "5x_1-x_3+4x_4+x_5 == 0\n"
          ]
        }
      ]
    },
    {
      "cell_type": "code",
      "source": [
        "# Imprimamos información sobre las variables de holgura:\n",
        "for i, h in enumerate(model.slack_values(list_contrains)):\n",
        "    print(f\"Holgura para la restricción {i+1}: {h}\")\n",
        "\n",
        "\n"
      ],
      "metadata": {
        "colab": {
          "base_uri": "https://localhost:8080/"
        },
        "id": "WvVyMskxX1KF",
        "outputId": "f769874c-e099-4b2c-adf5-48b847cf25f9"
      },
      "execution_count": null,
      "outputs": [
        {
          "output_type": "stream",
          "name": "stdout",
          "text": [
            "Holgura para la restricción 1: 0\n",
            "Holgura para la restricción 2: 600.0\n",
            "Holgura para la restricción 3: 0\n"
          ]
        }
      ]
    },
    {
      "cell_type": "code",
      "source": [
        "# Imprimamos información sobre los precios sobra o variables duales:\n",
        "for i, d in enumerate(model.dual_values(list_contrains)):\n",
        "    print(f\"Precio sombra para la restricción {i+1}: {d}\")\n"
      ],
      "metadata": {
        "colab": {
          "base_uri": "https://localhost:8080/"
        },
        "id": "4fBMckrgXUH5",
        "outputId": "06f8ec64-bbea-46a5-81f4-fcb2bf100936"
      },
      "execution_count": null,
      "outputs": [
        {
          "output_type": "stream",
          "name": "stdout",
          "text": [
            "Precio sombra para la restricción 1: 5600.0\n",
            "Precio sombra para la restricción 2: 0\n",
            "Precio sombra para la restricción 3: -22.0\n"
          ]
        }
      ]
    },
    {
      "cell_type": "code",
      "source": [
        "# Obrener iinformación de la sensibilidad:\n",
        "\n",
        "cpx = model.get_engine().get_cplex()\n",
        "sensitivity_o_f = cpx.solution.sensitivity.objective()\n",
        "print(\"Intervalos donde puedo cambiar los parámetros de las x_s, sin que afecten el valor de la función objetivo\")\n",
        "for i, x_i in enumerate(sensitivity_o_f):\n",
        "    print(f\"Intervalo de x_{i+1}: [{x_i[0]}, {x_i[1]}]\")\n",
        "\n"
      ],
      "metadata": {
        "colab": {
          "base_uri": "https://localhost:8080/"
        },
        "id": "a921kpA2ZUWk",
        "outputId": "23bd9189-910b-4000-ed92-265201e942c1"
      },
      "execution_count": null,
      "outputs": [
        {
          "output_type": "stream",
          "name": "stdout",
          "text": [
            "Intervalos donde puedo cambiar los parámetros de las x_s, sin que afecten el valor de la función objetivo\n",
            "Intervalo de x_1: [-98.0, 1e+20]\n",
            "Intervalo de x_2: [-1e+20, 5600.0]\n",
            "Intervalo de x_3: [-87.6, 28.0]\n",
            "Intervalo de x_4: [-1e+20, 5512.0]\n",
            "Intervalo de x_5: [-1e+20, -22.0]\n"
          ]
        }
      ]
    },
    {
      "cell_type": "code",
      "source": [
        "b_contrains = cpx.solution.sensitivity.rhs()\n",
        "print(\"Precio sombra (dual) y su rango donde es valido.\")\n",
        "for i, (d, rhs) in enumerate(zip(model.dual_values(list_contrains), b_contrains)):\n",
        "    print(f\"Restricción {i+1}, precio sombra: {d}, intervalo: [{rhs[0]}, {rhs[1]}]\")\n",
        "\n"
      ],
      "metadata": {
        "colab": {
          "base_uri": "https://localhost:8080/"
        },
        "id": "PQ5GbXNTbUGy",
        "outputId": "64f4715b-7d01-4bca-cb1e-694276ad9e85"
      },
      "execution_count": null,
      "outputs": [
        {
          "output_type": "stream",
          "name": "stdout",
          "text": [
            "Precio sombra (dual) y su rango donde es valido.\n",
            "Restricción 1, precio sombra: 5600.0, intervalo: [0.0, 2000.0]\n",
            "Restricción 2, precio sombra: 0, intervalo: [400.0, 1e+20]\n",
            "Restricción 3, precio sombra: -22.0, intervalo: [-1e+20, 40000.0]\n"
          ]
        }
      ]
    },
    {
      "cell_type": "markdown",
      "source": [
        "Actividad en clase:\n",
        "Realiza el análisis de sensibilidad para el siguiente caso:\n",
        "### Función objetivo\n",
        "\n",
        "$$\n",
        "\\text{Max } Z = 3x_1 + 4x_2\n",
        "$$\n",
        "Restricciones de actividades:\n",
        "$$\n",
        "2x_1 + x_2 \\leq 100\n",
        "$$\n",
        "$$\n",
        "x_1 + 3x_2 \\leq 90\n",
        "$$\n",
        "Restricciones de no negatividad:\n",
        "\n",
        "$$\n",
        "x_1 \\geq 0\n",
        "$$\n",
        "$$\n",
        "x_2 \\geq 0\n",
        "$$"
      ],
      "metadata": {
        "id": "blX5Zblrc6-G"
      }
    },
    {
      "cell_type": "code",
      "source": [
        "import os\n",
        "from docplex.mp.model import Model\n",
        "\n",
        "model = Model(name='Problema_Maximizacion')\n",
        "\n",
        "\n",
        "x_1 = model.continuous_var(name='x_1', lb=0)\n",
        "x_2 = model.continuous_var(name='x_2', lb=0)\n",
        "\n",
        "# función objetivo\n",
        "model.maximize(3*x_1 + 4*x_2)\n",
        "\n",
        "# Definir las restricciones\n",
        "c1 = model.add_constraint(2*x_1 + x_2 <= 100, 'restriccion_1')\n",
        "c2 = model.add_constraint(x_1 + 3*x_2 <= 90, 'restriccion_2')\n",
        "\n",
        "# Lista de restricciones\n",
        "list_contrains = [c1, c2]\n",
        "\n",
        "# Solucionar el modelo\n",
        "solution = model.solve(log_output=True)\n",
        "\n",
        "# Mostrar la solución\n",
        "if solution:\n",
        "    print(\"\\nSolución encontrada:\")\n",
        "    print(f\"Valor óptimo de Z = {solution.objective_value}\")\n",
        "    print(f\"x_1 = {solution.get_value(x_1)}\")\n",
        "    print(f\"x_2 = {solution.get_value(x_2)}\")\n",
        "\n",
        "    # Mostrar información sobre las restricciones\n",
        "    print(\"\\nInformación de las restricciones:\")\n",
        "    for i, c in enumerate(list_contrains):\n",
        "        print(c)\n",
        "\n",
        "    # Información sobre las variables de holgura\n",
        "    print(\"\\nVariables de holgura:\")\n",
        "    for i, h in enumerate(model.slack_values(list_contrains)):\n",
        "        print(f\"Holgura para la restricción {i+1}: {h}\")\n",
        "\n",
        "    # Información sobre los precios sombra (variables duales)\n",
        "    print(\"\\nPrecios sombra:\")\n",
        "    for i, d in enumerate(model.dual_values(list_contrains)):\n",
        "        print(f\"Precio sombra para la restricción {i+1}: {d}\")\n",
        "\n",
        "    # Análisis de sensibilidad\n",
        "    cpx = model.get_engine().get_cplex()\n",
        "\n",
        "    # Sensibilidad de los coeficientes de la función objetivo\n",
        "    sensitivity_o_f = cpx.solution.sensitivity.objective()\n",
        "    print(\"\\nIntervalos donde puedo cambiar los parámetros de las x_s sin que afecten la solución óptima:\")\n",
        "    for i, x_i in enumerate(sensitivity_o_f):\n",
        "        print(f\"Coeficiente de x_{i+1}: [{x_i[0]}, {x_i[1]}]\")\n",
        "\n",
        "    # Sensibilidad de los términos independientes de las restricciones\n",
        "    b_contrains = cpx.solution.sensitivity.rhs()\n",
        "    print(\"\\nPrecios sombra (dual) y su rango donde es válido:\")\n",
        "    for i, (d, rhs) in enumerate(zip(model.dual_values(list_contrains), b_contrains)):\n",
        "        print(f\"Restricción {i+1}, precio sombra: {d}, intervalo: [{rhs[0]}, {rhs[1]}]\")\n",
        "else:\n",
        "    print(\"No se encontró solución.\")"
      ],
      "metadata": {
        "colab": {
          "base_uri": "https://localhost:8080/"
        },
        "id": "LqeudIhYqXPm",
        "outputId": "5a7ea3d1-3a08-45a5-9296-d0ada2780820"
      },
      "execution_count": null,
      "outputs": [
        {
          "output_type": "stream",
          "name": "stdout",
          "text": [
            "Version identifier: 22.1.2.0 | 2024-12-10 | f4cec290b\n",
            "CPXPARAM_Read_DataCheck                          1\n",
            "Tried aggregator 1 time.\n",
            "No LP presolve or aggregator reductions.\n",
            "Presolve time = 0.00 sec. (0.00 ticks)\n",
            "\n",
            "Iteration log . . .\n",
            "Iteration:     1   Dual infeasibility =             0.000000\n",
            "Iteration:     2   Dual objective     =           190.000000\n",
            "\n",
            "Solución encontrada:\n",
            "Valor óptimo de Z = 190.0\n",
            "x_1 = 42.0\n",
            "x_2 = 16.0\n",
            "\n",
            "Información de las restricciones:\n",
            "restriccion_1: 2x_1+x_2 <= 100\n",
            "restriccion_2: x_1+3x_2 <= 90\n",
            "\n",
            "Variables de holgura:\n",
            "Holgura para la restricción 1: 0\n",
            "Holgura para la restricción 2: 0\n",
            "\n",
            "Precios sombra:\n",
            "Precio sombra para la restricción 1: 1.0\n",
            "Precio sombra para la restricción 2: 1.0\n",
            "\n",
            "Intervalos donde puedo cambiar los parámetros de las x_s sin que afecten la solución óptima:\n",
            "Coeficiente de x_1: [1.3333333333333333, 8.0]\n",
            "Coeficiente de x_2: [1.5, 9.0]\n",
            "\n",
            "Precios sombra (dual) y su rango donde es válido:\n",
            "Restricción 1, precio sombra: 1.0, intervalo: [30.0, 180.0]\n",
            "Restricción 2, precio sombra: 1.0, intervalo: [50.0, 300.0]\n"
          ]
        }
      ]
    },
    {
      "cell_type": "code",
      "source": [
        "# Iniciar el modelo\n",
        "model = Model(name='My_model')\n",
        "\n",
        "# Crear variables.\n",
        "x_1 = model.continuous_var(name='x_1')\n",
        "x_2 = model.continuous_var(name='x_2')\n",
        "\n",
        "\n",
        "# Definir la función objetivo:\n",
        "model.maximize(3*x_1 + 4*x_2 )\n",
        "# Definir las restricciones:\n",
        "model.add_constraint(2*x_1 + x_2  <= 100)\n",
        "model.add_constraint(x_1 + 3*x_2 <= 90)\n",
        "# Solucionar el modelo :\n",
        "solution = model.solve(log_output=1)\n",
        "\n",
        "solution.display()\n",
        "\n",
        "list_contrains = []\n",
        "for i in range(model.number_of_constraints):\n",
        "    c = model.get_constraint_by_index(i)\n",
        "    list_contrains.append(c)\n",
        "    print(c)\n",
        "\n",
        "# Imprimamos información sobre las variables de holgura:\n",
        "for i, h in enumerate(model.slack_values(list_contrains)):\n",
        "    print(f\"Holgura para la restricción {i+1}: {h}\")\n",
        "\n",
        "# Imprimamos información sobre los precios sobra o variables duales:\n",
        "for i, d in enumerate(model.dual_values(list_contrains)):\n",
        "    print(f\"Precio sombra para la restricción {i+1}: {d}\")\n",
        "\n",
        "\n",
        "# Obrener iinformación de la sensibilidad:\n",
        "\n",
        "cpx = model.get_engine().get_cplex()\n",
        "sensitivity_o_f = cpx.solution.sensitivity.objective()\n",
        "print(\"Intervalos donde puedo cambiar los parámetros de las x_s, sin que afecten el valor de la función objetivo\")\n",
        "for i, x_i in enumerate(sensitivity_o_f):\n",
        "    print(f\"Intervalo de x_{i+1}: [{x_i[0]}, {x_i[1]}]\")\n",
        "\n",
        "b_contrains = cpx.solution.sensitivity.rhs()\n",
        "print(\"Precio sombra (dual) y su rango donde es valido.\")\n",
        "for i, (d, rhs) in enumerate(zip(model.dual_values(list_contrains), b_contrains)):\n",
        "    print(f\"Restricción {i+1}, precio sombra: {d}, intervalo: [{rhs[0]}, {rhs[1]}]\")\n",
        "\n",
        "\n",
        "\n",
        "\n"
      ],
      "metadata": {
        "colab": {
          "base_uri": "https://localhost:8080/"
        },
        "id": "-bJNsjYCsi_D",
        "outputId": "ee0dcf3f-7912-4a4e-cda0-f03c4703e28f"
      },
      "execution_count": null,
      "outputs": [
        {
          "output_type": "stream",
          "name": "stdout",
          "text": [
            "solution for: My_model\n",
            "objective: 190.000\n",
            "status: OPTIMAL_SOLUTION(2)\n",
            "x_1 = 42.000\n",
            "x_2 = 16.000\n",
            "2x_1+x_2 <= 100\n",
            "x_1+3x_2 <= 90\n",
            "Holgura para la restricción 1: 0\n",
            "Holgura para la restricción 2: 0\n",
            "Precio sombra para la restricción 1: 1.0\n",
            "Precio sombra para la restricción 2: 1.0\n",
            "Intervalos donde puedo cambiar los parámetros de las x_s, sin que afecten el valor de la función objetivo\n",
            "Intervalo de x_1: [1.3333333333333333, 8.0]\n",
            "Intervalo de x_2: [1.5, 9.0]\n",
            "Precio sombra (dual) y su rango donde es valido.\n",
            "Restricción 1, precio sombra: 1.0, intervalo: [30.0, 180.0]\n",
            "Restricción 2, precio sombra: 1.0, intervalo: [50.0, 300.0]\n"
          ]
        }
      ]
    },
    {
      "cell_type": "markdown",
      "source": [
        "Holgura para la restricción 1: 0: La primera restricción se cumple con igualdad\n",
        "Holgura para la restricción 2: 0: La segunda restricción también se cumple con igualdad\n",
        "\n",
        "Precios sombra:\n",
        "\n",
        "Precio sombra para la restricción 1: 1.0: Si aumentamos el límite de la primera restricción (100) en 1 unidad, el valor óptimo de Z aumentará en 1 unidad.\n",
        "Precio sombra para la restricción 2: 1.0: Si aumentamos el límite de la segunda restricción (90) en 1 unidad, el valor óptimo de Z aumentará en 1 unidad.\n",
        "\n",
        "Análisis de sensibilidad para los coeficientes de la función objetivo:\n",
        "\n",
        "Intervalo de x_1: [1.3333333333333333, 8.0]: El coeficiente de x₁ (actualmente 3) puede variar entre 1.33 y 8 sin que cambie la solución óptima actual (los valores de x₁ y x₂).\n",
        "Intervalo de x_2: [1.5, 9.0]: El coeficiente de x₂ (actualmente 4) puede variar entre 1.5 y 9 sin que cambie la solución óptima actual.\n",
        "\n",
        "Análisis de sensibilidad para los términos independientes:\n",
        "\n",
        "Restricción 1, precio sombra: 1.0, intervalo: [30.0, 180.0]: El precio sombra de 1.0 es válido mientras el lado derecho de la primera restricción (100) varíe entre 30 y 180.\n",
        "Restricción 2, precio sombra: 1.0, intervalo: [50.0, 300.0]: El precio sombra de 1.0 es válido mientras el lado derecho de la segunda restricción (90) varíe entre 50 y 300"
      ],
      "metadata": {
        "id": "W_O7yWWnu1tQ"
      }
    },
    {
      "cell_type": "markdown",
      "source": [],
      "metadata": {
        "id": "IqB17VFLuo-Z"
      }
    }
  ]
}