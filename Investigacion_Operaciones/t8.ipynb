{
  "nbformat": 4,
  "nbformat_minor": 0,
  "metadata": {
    "colab": {
      "provenance": []
    },
    "kernelspec": {
      "name": "python3",
      "display_name": "Python 3"
    },
    "language_info": {
      "name": "python"
    }
  },
  "cells": [
    {
      "cell_type": "code",
      "execution_count": null,
      "metadata": {
        "colab": {
          "base_uri": "https://localhost:8080/"
        },
        "id": "xUGxbrbng0u5",
        "outputId": "c7bcbba0-4c8a-4262-b580-603cf11d0664"
      },
      "outputs": [
        {
          "output_type": "stream",
          "name": "stdout",
          "text": [
            "Requirement already satisfied: pyomo in /usr/local/lib/python3.11/dist-packages (6.8.2)\n",
            "Requirement already satisfied: ply in /usr/local/lib/python3.11/dist-packages (from pyomo) (3.11)\n",
            "Get:1 http://security.ubuntu.com/ubuntu jammy-security InRelease [129 kB]\n",
            "Get:2 https://cloud.r-project.org/bin/linux/ubuntu jammy-cran40/ InRelease [3,632 B]\n",
            "Get:3 https://developer.download.nvidia.com/compute/cuda/repos/ubuntu2204/x86_64  InRelease [1,581 B]\n",
            "Hit:4 http://archive.ubuntu.com/ubuntu jammy InRelease\n",
            "Get:5 https://r2u.stat.illinois.edu/ubuntu jammy InRelease [6,555 B]\n",
            "Get:6 http://archive.ubuntu.com/ubuntu jammy-updates InRelease [128 kB]\n",
            "Hit:7 https://ppa.launchpadcontent.net/deadsnakes/ppa/ubuntu jammy InRelease\n",
            "Hit:8 https://ppa.launchpadcontent.net/graphics-drivers/ppa/ubuntu jammy InRelease\n",
            "Hit:9 https://ppa.launchpadcontent.net/ubuntugis/ppa/ubuntu jammy InRelease\n",
            "Get:10 http://archive.ubuntu.com/ubuntu jammy-backports InRelease [127 kB]\n",
            "Get:11 http://security.ubuntu.com/ubuntu jammy-security/restricted amd64 Packages [3,813 kB]\n",
            "Get:12 http://security.ubuntu.com/ubuntu jammy-security/universe amd64 Packages [1,238 kB]\n",
            "Get:13 http://security.ubuntu.com/ubuntu jammy-security/main amd64 Packages [2,698 kB]\n",
            "Get:14 http://security.ubuntu.com/ubuntu jammy-security/multiverse amd64 Packages [47.7 kB]\n",
            "Get:15 https://developer.download.nvidia.com/compute/cuda/repos/ubuntu2204/x86_64  Packages [1,380 kB]\n",
            "Get:16 https://r2u.stat.illinois.edu/ubuntu jammy/main amd64 Packages [2,680 kB]\n",
            "Get:17 https://r2u.stat.illinois.edu/ubuntu jammy/main all Packages [8,772 kB]\n",
            "Get:18 http://archive.ubuntu.com/ubuntu jammy-updates/restricted amd64 Packages [4,041 kB]\n",
            "Get:19 http://archive.ubuntu.com/ubuntu jammy-updates/multiverse amd64 Packages [55.7 kB]\n",
            "Get:20 http://archive.ubuntu.com/ubuntu jammy-updates/main amd64 Packages [3,041 kB]\n",
            "Get:21 http://archive.ubuntu.com/ubuntu jammy-updates/universe amd64 Packages [1,538 kB]\n",
            "Get:22 http://archive.ubuntu.com/ubuntu jammy-backports/universe amd64 Packages [35.2 kB]\n",
            "Fetched 29.7 MB in 7s (4,442 kB/s)\n",
            "Reading package lists... Done\n",
            "W: Skipping acquire of configured file 'main/source/Sources' as repository 'https://r2u.stat.illinois.edu/ubuntu jammy InRelease' does not seem to provide it (sources.list entry misspelt?)\n",
            "Reading package lists... Done\n",
            "Building dependency tree... Done\n",
            "Reading state information... Done\n",
            "The following additional packages will be installed:\n",
            "  libamd2 libcolamd2 libglpk40 libsuitesparseconfig5\n",
            "Suggested packages:\n",
            "  libiodbc2-dev\n",
            "The following NEW packages will be installed:\n",
            "  glpk-utils libamd2 libcolamd2 libglpk40 libsuitesparseconfig5\n",
            "0 upgraded, 5 newly installed, 0 to remove and 35 not upgraded.\n",
            "Need to get 625 kB of archives.\n",
            "After this operation, 2,158 kB of additional disk space will be used.\n",
            "Get:1 http://archive.ubuntu.com/ubuntu jammy/main amd64 libsuitesparseconfig5 amd64 1:5.10.1+dfsg-4build1 [10.4 kB]\n",
            "Get:2 http://archive.ubuntu.com/ubuntu jammy/universe amd64 libamd2 amd64 1:5.10.1+dfsg-4build1 [21.6 kB]\n",
            "Get:3 http://archive.ubuntu.com/ubuntu jammy/main amd64 libcolamd2 amd64 1:5.10.1+dfsg-4build1 [18.0 kB]\n",
            "Get:4 http://archive.ubuntu.com/ubuntu jammy/universe amd64 libglpk40 amd64 5.0-1 [361 kB]\n",
            "Get:5 http://archive.ubuntu.com/ubuntu jammy/universe amd64 glpk-utils amd64 5.0-1 [214 kB]\n",
            "Fetched 625 kB in 1s (688 kB/s)\n",
            "Selecting previously unselected package libsuitesparseconfig5:amd64.\n",
            "(Reading database ... 126209 files and directories currently installed.)\n",
            "Preparing to unpack .../libsuitesparseconfig5_1%3a5.10.1+dfsg-4build1_amd64.deb ...\n",
            "Unpacking libsuitesparseconfig5:amd64 (1:5.10.1+dfsg-4build1) ...\n",
            "Selecting previously unselected package libamd2:amd64.\n",
            "Preparing to unpack .../libamd2_1%3a5.10.1+dfsg-4build1_amd64.deb ...\n",
            "Unpacking libamd2:amd64 (1:5.10.1+dfsg-4build1) ...\n",
            "Selecting previously unselected package libcolamd2:amd64.\n",
            "Preparing to unpack .../libcolamd2_1%3a5.10.1+dfsg-4build1_amd64.deb ...\n",
            "Unpacking libcolamd2:amd64 (1:5.10.1+dfsg-4build1) ...\n",
            "Selecting previously unselected package libglpk40:amd64.\n",
            "Preparing to unpack .../libglpk40_5.0-1_amd64.deb ...\n",
            "Unpacking libglpk40:amd64 (5.0-1) ...\n",
            "Selecting previously unselected package glpk-utils.\n",
            "Preparing to unpack .../glpk-utils_5.0-1_amd64.deb ...\n",
            "Unpacking glpk-utils (5.0-1) ...\n",
            "Setting up libsuitesparseconfig5:amd64 (1:5.10.1+dfsg-4build1) ...\n",
            "Setting up libamd2:amd64 (1:5.10.1+dfsg-4build1) ...\n",
            "Setting up libcolamd2:amd64 (1:5.10.1+dfsg-4build1) ...\n",
            "Setting up libglpk40:amd64 (5.0-1) ...\n",
            "Setting up glpk-utils (5.0-1) ...\n",
            "Processing triggers for man-db (2.10.2-1) ...\n",
            "Processing triggers for libc-bin (2.35-0ubuntu3.8) ...\n",
            "/sbin/ldconfig.real: /usr/local/lib/libhwloc.so.15 is not a symbolic link\n",
            "\n",
            "/sbin/ldconfig.real: /usr/local/lib/libtcm.so.1 is not a symbolic link\n",
            "\n",
            "/sbin/ldconfig.real: /usr/local/lib/libtbbmalloc_proxy.so.2 is not a symbolic link\n",
            "\n",
            "/sbin/ldconfig.real: /usr/local/lib/libtbbbind_2_0.so.3 is not a symbolic link\n",
            "\n",
            "/sbin/ldconfig.real: /usr/local/lib/libtbbmalloc.so.2 is not a symbolic link\n",
            "\n",
            "/sbin/ldconfig.real: /usr/local/lib/libtbb.so.12 is not a symbolic link\n",
            "\n",
            "/sbin/ldconfig.real: /usr/local/lib/libur_adapter_opencl.so.0 is not a symbolic link\n",
            "\n",
            "/sbin/ldconfig.real: /usr/local/lib/libtbbbind.so.3 is not a symbolic link\n",
            "\n",
            "/sbin/ldconfig.real: /usr/local/lib/libtcm_debug.so.1 is not a symbolic link\n",
            "\n",
            "/sbin/ldconfig.real: /usr/local/lib/libur_adapter_level_zero.so.0 is not a symbolic link\n",
            "\n",
            "/sbin/ldconfig.real: /usr/local/lib/libur_loader.so.0 is not a symbolic link\n",
            "\n",
            "/sbin/ldconfig.real: /usr/local/lib/libumf.so.0 is not a symbolic link\n",
            "\n",
            "/sbin/ldconfig.real: /usr/local/lib/libtbbbind_2_5.so.3 is not a symbolic link\n",
            "\n"
          ]
        }
      ],
      "source": [
        "# Inatalación, es necesario correr esta celda, de lo contrario el código no funcionara.:\n",
        "! pip install pyomo\n",
        "! apt-get update\n",
        "! apt-get install -y glpk-utils\n",
        "\n",
        "\n"
      ]
    },
    {
      "cell_type": "markdown",
      "source": [
        "Aquí tiene que escribir la función y restricciones respectivas:\n",
        "\n"
      ],
      "metadata": {
        "id": "E1mchDv7k0sy"
      }
    },
    {
      "cell_type": "markdown",
      "source": [
        "![image.png](data:image/png;base64,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)"
      ],
      "metadata": {
        "id": "CRd0jOcn6WOs"
      }
    },
    {
      "cell_type": "markdown",
      "source": [
        "### Función objetivo\n",
        "\n",
        "$$\n",
        "\\text{Min } Z = 5x_{11} + 8x_{12} + 3x_{21} + 4x_{22}\n",
        "$$\n",
        "Restricciones de actividades:\n",
        "$$\n",
        "x_{11} + x_{21}=400\n",
        "$$\n",
        "$$\n",
        "x_{12} + x_{22} = 900\n",
        "$$\n",
        "$$\n",
        "x_{11} + x_{12} = 700\n",
        "$$\n",
        "$$\n",
        "x_{21} + x_{22} = 600\n",
        "$$\n"
      ],
      "metadata": {
        "id": "_pXhOw9ZeFTP"
      }
    },
    {
      "cell_type": "markdown",
      "source": [
        "Complete el siguiente código.\n",
        "Para completarlo, lea los comentarios del código, los cuales le dirán lo que tiene que completar."
      ],
      "metadata": {
        "id": "L7RsggN-lIiy"
      }
    },
    {
      "cell_type": "code",
      "source": [
        "# Importamos las bibliotecas necesarias\n",
        "from pyomo.environ import *\n",
        "\n",
        "# Creamos el modelo\n",
        "model = ConcreteModel()\n",
        "\n",
        "# Definimos las variables de decisión\n",
        "model.x_11 = Var(within=NonNegativeReals)\n",
        "model.x_12 = Var(within=NonNegativeReals)\n",
        "model.x_21 = Var(within=NonNegativeReals)\n",
        "model.x_22 = Var(within=NonNegativeReals)\n",
        "\n",
        "\n",
        "\n",
        "# Definimos la función objetivo\n",
        "model.obj = Objective(expr=5*model.x_11 + 8*model.x_12 + 3*model.x_21 + 4*model.x_22, sense=minimize)\n",
        "\n"
      ],
      "metadata": {
        "id": "-gzPr535jvIv"
      },
      "execution_count": null,
      "outputs": []
    },
    {
      "cell_type": "markdown",
      "source": [
        "Restricciones de actividades:\n",
        "Restricciones de actividades:\n",
        "$$\n",
        "x_{11} + x_{21}=400\n",
        "$$\n",
        "$$\n",
        "x_{12} + x_{22} = 900\n",
        "$$\n",
        "$$\n",
        "x_{11} + x_{12} = 700\n",
        "$$\n",
        "$$\n",
        "x_{21} + x_{22} = 600\n",
        "$$\n"
      ],
      "metadata": {
        "id": "L9T8LIrC3uqA"
      }
    },
    {
      "cell_type": "code",
      "source": [
        "\n",
        "# Definimos las restricciones\n",
        "# Complete con la restricción 1:\n",
        "model.con1 = Constraint(expr= model.x_11 + model.x_21 == 400)\n",
        "model.con2 = Constraint(expr= model.x_12 + model.x_22 == 900)\n",
        "model.con3 = Constraint(expr= model.x_11 + model.x_12 == 700)\n",
        "model.con4 = Constraint(expr= model.x_21 + model.x_22 == 600)\n",
        "\n"
      ],
      "metadata": {
        "id": "HtYxOTdYjuRs"
      },
      "execution_count": null,
      "outputs": []
    },
    {
      "cell_type": "code",
      "source": [
        "\n",
        "\n",
        "# Creamos un solver, por ejemplo GLPK\n",
        "solver = SolverFactory('glpk', executable='/usr/bin/glpsol').solve(model).write()# SolverFactory('glpk')\n",
        "\n"
      ],
      "metadata": {
        "colab": {
          "base_uri": "https://localhost:8080/"
        },
        "id": "28BkAVz2k6a-",
        "outputId": "1f22b8a7-9c83-4c4e-aa87-df170adc894f"
      },
      "execution_count": null,
      "outputs": [
        {
          "output_type": "stream",
          "name": "stdout",
          "text": [
            "# ==========================================================\n",
            "# = Solver Results                                         =\n",
            "# ==========================================================\n",
            "# ----------------------------------------------------------\n",
            "#   Problem Information\n",
            "# ----------------------------------------------------------\n",
            "Problem: \n",
            "- Name: unknown\n",
            "  Lower bound: 6800.0\n",
            "  Upper bound: 6800.0\n",
            "  Number of objectives: 1\n",
            "  Number of constraints: 4\n",
            "  Number of variables: 4\n",
            "  Number of nonzeros: 8\n",
            "  Sense: minimize\n",
            "# ----------------------------------------------------------\n",
            "#   Solver Information\n",
            "# ----------------------------------------------------------\n",
            "Solver: \n",
            "- Status: ok\n",
            "  Termination condition: optimal\n",
            "  Statistics: \n",
            "    Branch and bound: \n",
            "      Number of bounded subproblems: 0\n",
            "      Number of created subproblems: 0\n",
            "  Error rc: 0\n",
            "  Time: 0.004874706268310547\n",
            "# ----------------------------------------------------------\n",
            "#   Solution Information\n",
            "# ----------------------------------------------------------\n",
            "Solution: \n",
            "- number of solutions: 0\n",
            "  number of solutions displayed: 0\n"
          ]
        }
      ]
    },
    {
      "cell_type": "code",
      "source": [
        "\n",
        "# # Resolvemos el problema\n",
        "# solver.solve(model)\n",
        "\n",
        "# Mostramos los resultados\n",
        "print(f\"Valor óptimo de x_11: {model.x_11()}\")\n",
        "print(f\"Valor óptimo de x_12: {model.x_12()}\")\n",
        "print(f\"Valor óptimo de x_21: {model.x_21()}\")\n",
        "print(f\"Valor óptimo de x_22: {model.x_22()}\")\n",
        "print(f\"Valor óptimo de Z: {model.obj()}\")\n"
      ],
      "metadata": {
        "colab": {
          "base_uri": "https://localhost:8080/"
        },
        "id": "kZSEUjpy4sPy",
        "outputId": "b6752d53-b339-4ada-bf12-f70e447cb704"
      },
      "execution_count": null,
      "outputs": [
        {
          "output_type": "stream",
          "name": "stdout",
          "text": [
            "Valor óptimo de x_11: 400.0\n",
            "Valor óptimo de x_12: 300.0\n",
            "Valor óptimo de x_21: 0.0\n",
            "Valor óptimo de x_22: 600.0\n",
            "Valor óptimo de Z: 6800.0\n"
          ]
        }
      ]
    },
    {
      "cell_type": "code",
      "source": [
        "model.display()"
      ],
      "metadata": {
        "colab": {
          "base_uri": "https://localhost:8080/"
        },
        "id": "R3I9S4HGnbxp",
        "outputId": "8c5df580-12c3-4935-df11-3697d673a12e"
      },
      "execution_count": null,
      "outputs": [
        {
          "output_type": "stream",
          "name": "stdout",
          "text": [
            "Model unknown\n",
            "\n",
            "  Variables:\n",
            "    x_11 : Size=1, Index=None\n",
            "        Key  : Lower : Value : Upper : Fixed : Stale : Domain\n",
            "        None :     0 : 400.0 :  None : False : False : NonNegativeReals\n",
            "    x_12 : Size=1, Index=None\n",
            "        Key  : Lower : Value : Upper : Fixed : Stale : Domain\n",
            "        None :     0 : 300.0 :  None : False : False : NonNegativeReals\n",
            "    x_21 : Size=1, Index=None\n",
            "        Key  : Lower : Value : Upper : Fixed : Stale : Domain\n",
            "        None :     0 :   0.0 :  None : False : False : NonNegativeReals\n",
            "    x_22 : Size=1, Index=None\n",
            "        Key  : Lower : Value : Upper : Fixed : Stale : Domain\n",
            "        None :     0 : 600.0 :  None : False : False : NonNegativeReals\n",
            "\n",
            "  Objectives:\n",
            "    obj : Size=1, Index=None, Active=True\n",
            "        Key  : Active : Value\n",
            "        None :   True : 6800.0\n",
            "\n",
            "  Constraints:\n",
            "    con1 : Size=1\n",
            "        Key  : Lower : Body  : Upper\n",
            "        None : 400.0 : 400.0 : 400.0\n",
            "    con2 : Size=1\n",
            "        Key  : Lower : Body  : Upper\n",
            "        None : 900.0 : 900.0 : 900.0\n",
            "    con3 : Size=1\n",
            "        Key  : Lower : Body  : Upper\n",
            "        None : 700.0 : 700.0 : 700.0\n",
            "    con4 : Size=1\n",
            "        Key  : Lower : Body  : Upper\n",
            "        None : 600.0 : 600.0 : 600.0\n"
          ]
        }
      ]
    },
    {
      "cell_type": "code",
      "source": [
        "#Pizarron\n",
        "# Importamos las bibliotecas necesarias\n",
        "from pyomo.environ import *\n",
        "\n",
        "# Creamos el modelo\n",
        "model = ConcreteModel()\n",
        "\n",
        "# Definimos las variables de decisión\n",
        "model.x_11 = Var(within=NonNegativeReals)\n",
        "model.x_12 = Var(within=NonNegativeReals)\n",
        "model.x_13 = Var(within=NonNegativeReals)\n",
        "model.x_14 = Var(within=NonNegativeReals)\n",
        "model.x_21 = Var(within=NonNegativeReals)\n",
        "model.x_22 = Var(within=NonNegativeReals)\n",
        "model.x_23 = Var(within=NonNegativeReals)\n",
        "model.x_24 = Var(within=NonNegativeReals)\n",
        "model.x_31 = Var(within=NonNegativeReals)\n",
        "model.x_32 = Var(within=NonNegativeReals)\n",
        "model.x_33 = Var(within=NonNegativeReals)\n",
        "model.x_34 = Var(within=NonNegativeReals)\n",
        "\n",
        "\n",
        "# Definimos la función objetivo\n",
        "model.obj = Objective(expr=464*model.x_11 + 513*model.x_12 + 654*model.x_13 + 867*model.x_14 + 352*model.x_21 + 416*model.x_22 + 690*model.x_23 + 791*model.x_24 + 995*model.x_31 + 682*model.x_32 + 388*model.x_33 + 685*model.x_34 , sense=minimize)\n",
        "\n",
        "\n",
        "\n",
        "# Definimos las restricciones\n",
        "# Complete con la restricción 1:\n",
        "model.con1 = Constraint(expr= model.x_11 + model.x_12 + model.x_13 + model.x_14  == 75)\n",
        "model.con2 = Constraint(expr= model.x_21 + model.x_22 + model.x_23 + model.x_24 == 125)\n",
        "model.con3 = Constraint(expr= model.x_31 + model.x_32 + model.x_33 + model.x_34 == 100)\n",
        "model.con4 = Constraint(expr= model.x_11 + model.x_21 + model.x_31 == 80)\n",
        "model.con5 = Constraint(expr= model.x_12 + model.x_22 + model.x_32 == 65)\n",
        "model.con6 = Constraint(expr= model.x_13 + model.x_23 + model.x_33 == 70)\n",
        "model.con7 = Constraint(expr= model.x_14 + model.x_24 + model.x_34 == 85)\n",
        "\n",
        "\n",
        "# Creamos un solver, por ejemplo GLPK\n",
        "solver = SolverFactory('glpk', executable='/usr/bin/glpsol').solve(model).write()# SolverFactory('glpk')\n",
        "\n",
        "# # Resolvemos el problema\n",
        "# solver.solve(model)\n",
        "\n",
        "# Mostramos los resultados\n",
        "print(f\"Valor óptimo de x_11: {model.x_11()}\")\n",
        "print(f\"Valor óptimo de x_12: {model.x_12()}\")\n",
        "print(f\"Valor óptimo de x_13: {model.x_13()}\")\n",
        "print(f\"Valor óptimo de x_14: {model.x_14()}\")\n",
        "print(f\"Valor óptimo de x_21: {model.x_21()}\")\n",
        "print(f\"Valor óptimo de x_22: {model.x_22()}\")\n",
        "print(f\"Valor óptimo de x_23: {model.x_23()}\")\n",
        "print(f\"Valor óptimo de x_24: {model.x_24()}\")\n",
        "print(f\"Valor óptimo de x_31: {model.x_31()}\")\n",
        "print(f\"Valor óptimo de x_32: {model.x_32()}\")\n",
        "print(f\"Valor óptimo de x_33: {model.x_33()}\")\n",
        "print(f\"Valor óptimo de x_34: {model.x_34()}\")\n",
        "print(f\"Valor óptimo de Z: {model.obj()}\")\n",
        "\n",
        "\n",
        "model.display()\n"
      ],
      "metadata": {
        "colab": {
          "base_uri": "https://localhost:8080/"
        },
        "id": "UnToQzMBuO9P",
        "outputId": "3d1b0336-af82-426b-ad38-432707b61058"
      },
      "execution_count": null,
      "outputs": [
        {
          "output_type": "stream",
          "name": "stdout",
          "text": [
            "# ==========================================================\n",
            "# = Solver Results                                         =\n",
            "# ==========================================================\n",
            "# ----------------------------------------------------------\n",
            "#   Problem Information\n",
            "# ----------------------------------------------------------\n",
            "Problem: \n",
            "- Name: unknown\n",
            "  Lower bound: 152535.0\n",
            "  Upper bound: 152535.0\n",
            "  Number of objectives: 1\n",
            "  Number of constraints: 7\n",
            "  Number of variables: 12\n",
            "  Number of nonzeros: 24\n",
            "  Sense: minimize\n",
            "# ----------------------------------------------------------\n",
            "#   Solver Information\n",
            "# ----------------------------------------------------------\n",
            "Solver: \n",
            "- Status: ok\n",
            "  Termination condition: optimal\n",
            "  Statistics: \n",
            "    Branch and bound: \n",
            "      Number of bounded subproblems: 0\n",
            "      Number of created subproblems: 0\n",
            "  Error rc: 0\n",
            "  Time: 0.004065513610839844\n",
            "# ----------------------------------------------------------\n",
            "#   Solution Information\n",
            "# ----------------------------------------------------------\n",
            "Solution: \n",
            "- number of solutions: 0\n",
            "  number of solutions displayed: 0\n",
            "Valor óptimo de x_11: 0.0\n",
            "Valor óptimo de x_12: 20.0\n",
            "Valor óptimo de x_13: 0.0\n",
            "Valor óptimo de x_14: 55.0\n",
            "Valor óptimo de x_21: 80.0\n",
            "Valor óptimo de x_22: 45.0\n",
            "Valor óptimo de x_23: 0.0\n",
            "Valor óptimo de x_24: 0.0\n",
            "Valor óptimo de x_31: 0.0\n",
            "Valor óptimo de x_32: 0.0\n",
            "Valor óptimo de x_33: 70.0\n",
            "Valor óptimo de x_34: 30.0\n",
            "Valor óptimo de Z: 152535.0\n",
            "Model unknown\n",
            "\n",
            "  Variables:\n",
            "    x_11 : Size=1, Index=None\n",
            "        Key  : Lower : Value : Upper : Fixed : Stale : Domain\n",
            "        None :     0 :   0.0 :  None : False : False : NonNegativeReals\n",
            "    x_12 : Size=1, Index=None\n",
            "        Key  : Lower : Value : Upper : Fixed : Stale : Domain\n",
            "        None :     0 :  20.0 :  None : False : False : NonNegativeReals\n",
            "    x_13 : Size=1, Index=None\n",
            "        Key  : Lower : Value : Upper : Fixed : Stale : Domain\n",
            "        None :     0 :   0.0 :  None : False : False : NonNegativeReals\n",
            "    x_14 : Size=1, Index=None\n",
            "        Key  : Lower : Value : Upper : Fixed : Stale : Domain\n",
            "        None :     0 :  55.0 :  None : False : False : NonNegativeReals\n",
            "    x_21 : Size=1, Index=None\n",
            "        Key  : Lower : Value : Upper : Fixed : Stale : Domain\n",
            "        None :     0 :  80.0 :  None : False : False : NonNegativeReals\n",
            "    x_22 : Size=1, Index=None\n",
            "        Key  : Lower : Value : Upper : Fixed : Stale : Domain\n",
            "        None :     0 :  45.0 :  None : False : False : NonNegativeReals\n",
            "    x_23 : Size=1, Index=None\n",
            "        Key  : Lower : Value : Upper : Fixed : Stale : Domain\n",
            "        None :     0 :   0.0 :  None : False : False : NonNegativeReals\n",
            "    x_24 : Size=1, Index=None\n",
            "        Key  : Lower : Value : Upper : Fixed : Stale : Domain\n",
            "        None :     0 :   0.0 :  None : False : False : NonNegativeReals\n",
            "    x_31 : Size=1, Index=None\n",
            "        Key  : Lower : Value : Upper : Fixed : Stale : Domain\n",
            "        None :     0 :   0.0 :  None : False : False : NonNegativeReals\n",
            "    x_32 : Size=1, Index=None\n",
            "        Key  : Lower : Value : Upper : Fixed : Stale : Domain\n",
            "        None :     0 :   0.0 :  None : False : False : NonNegativeReals\n",
            "    x_33 : Size=1, Index=None\n",
            "        Key  : Lower : Value : Upper : Fixed : Stale : Domain\n",
            "        None :     0 :  70.0 :  None : False : False : NonNegativeReals\n",
            "    x_34 : Size=1, Index=None\n",
            "        Key  : Lower : Value : Upper : Fixed : Stale : Domain\n",
            "        None :     0 :  30.0 :  None : False : False : NonNegativeReals\n",
            "\n",
            "  Objectives:\n",
            "    obj : Size=1, Index=None, Active=True\n",
            "        Key  : Active : Value\n",
            "        None :   True : 152535.0\n",
            "\n",
            "  Constraints:\n",
            "    con1 : Size=1\n",
            "        Key  : Lower : Body : Upper\n",
            "        None :  75.0 : 75.0 :  75.0\n",
            "    con2 : Size=1\n",
            "        Key  : Lower : Body  : Upper\n",
            "        None : 125.0 : 125.0 : 125.0\n",
            "    con3 : Size=1\n",
            "        Key  : Lower : Body  : Upper\n",
            "        None : 100.0 : 100.0 : 100.0\n",
            "    con4 : Size=1\n",
            "        Key  : Lower : Body : Upper\n",
            "        None :  80.0 : 80.0 :  80.0\n",
            "    con5 : Size=1\n",
            "        Key  : Lower : Body : Upper\n",
            "        None :  65.0 : 65.0 :  65.0\n",
            "    con6 : Size=1\n",
            "        Key  : Lower : Body : Upper\n",
            "        None :  70.0 : 70.0 :  70.0\n",
            "    con7 : Size=1\n",
            "        Key  : Lower : Body : Upper\n",
            "        None :  85.0 : 85.0 :  85.0\n"
          ]
        }
      ]
    },
    {
      "cell_type": "markdown",
      "source": [
        "Se implementó un modelo de optimización para resolver un problema de transporte o asignación, con el objetivo de minimizar costos de distribución entre orígenes y destinos. El modelo, resuelto con **GLPK** mediante **Pyomo**, encontró una solución óptima que cumple con todas las restricciones de oferta y demanda, asegurando el equilibrio del sistema.  \n",
        "\n",
        "La solución obtenida muestra cómo se distribuyen los recursos de manera óptima, logrando el menor costo posible. Además, se destacan recomendaciones para mejorar el análisis, como verificar rutas de costo cero, realizar análisis de sensibilidad y validar los datos.  \n",
        "\n",
        "Se implementó un modelo de programación lineal para resolver un problema de transporte, con el objetivo de minimizar costos en la distribución de recursos desde tres orígenes a cuatro destinos.\n",
        "\n",
        "El modelo fue resuelto utilizando Pyomo y el solver GLPK, encontrando una solución óptima en la que:\n",
        "\n",
        "Se asignaron 75 unidades del origen 1 al destino 1, entre otras asignaciones específicas.\n",
        "\n",
        "El costo total mínimo obtenido fue\n",
        "152535\n",
        "Z, asegurando una distribución eficiente.\n",
        "\n",
        "El sistema está equilibrado, ya que la oferta total (300 unidades) coincide exactamente con la demanda total (300 unidades)"
      ],
      "metadata": {
        "id": "RtAkuOg-0N4N"
      }
    }
  ]
}